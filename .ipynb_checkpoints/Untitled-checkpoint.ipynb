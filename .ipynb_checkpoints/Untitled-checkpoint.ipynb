{
 "cells": [
  {
   "cell_type": "markdown",
   "metadata": {},
   "source": [
    "# Rain Forecast in Australia"
   ]
  },
  {
   "cell_type": "markdown",
   "metadata": {},
   "source": [
    "**Analysed by: Cezar Augusto Peixeiro dos Santos**"
   ]
  },
  {
   "cell_type": "markdown",
   "metadata": {},
   "source": [
    "This study consists in analysing climate data retrieved by weather stations installed around some cities in Australia and from this predict the most probable rain condition (rainning or not) in the next day."
   ]
  },
  {
   "cell_type": "code",
   "execution_count": 4,
   "metadata": {},
   "outputs": [],
   "source": [
    "#importing libraries\n",
    "import os\n",
    "import numpy as np\n",
    "import pandas as pd\n",
    "import matplotlib.pyplot as plt\n",
    "import seaborn as sns\n",
    "from sklearn.linear_model import LogisticRegression\n",
    "from yellowbrick.model_selection import RFECV\n",
    "from sklearn.metrics import classification_report, roc_auc_score, roc_curve\n",
    "from sklearn.model_selection import KFold"
   ]
  },
  {
   "cell_type": "code",
   "execution_count": 5,
   "metadata": {},
   "outputs": [],
   "source": [
    "all_files = os.listdir('data')\n",
    "all_files.sort()"
   ]
  },
  {
   "cell_type": "code",
   "execution_count": 6,
   "metadata": {},
   "outputs": [],
   "source": [
    "wind_data_lst = []\n",
    "\n",
    "for file in all_files:\n",
    "    if \"rain\" in file:\n",
    "        rain_data = pd.read_csv('data/' + file)\n",
    "    else:\n",
    "        wind_data_lst.append(pd.read_csv('data/' + file))"
   ]
  },
  {
   "cell_type": "markdown",
   "metadata": {},
   "source": [
    "## Data Handling"
   ]
  },
  {
   "cell_type": "markdown",
   "metadata": {},
   "source": [
    "As I have many dataframes refering to the same kind of data, the next steps are verifications of possible errors that can let us to misunderstand the data and its correction."
   ]
  },
  {
   "cell_type": "markdown",
   "metadata": {},
   "source": [
    "* **Rain Dataframe - Columns names**"
   ]
  },
  {
   "cell_type": "code",
   "execution_count": 7,
   "metadata": {},
   "outputs": [
    {
     "data": {
      "text/plain": [
       "Index(['date', 'location', 'mintemp', 'maxtemp', 'rainfall', 'evaporation',\n",
       "       'sunshine', 'humidity9am', 'humidity3pm', 'pressure9am', 'pressure3pm',\n",
       "       'cloud9am', 'cloud3pm', 'temp9am', 'temp3pm', 'raintoday',\n",
       "       'amountOfRain', 'raintomorrow', 'temp', 'humidity', 'precipitation3pm',\n",
       "       'precipitation9am', 'modelo_vigente'],\n",
       "      dtype='object')"
      ]
     },
     "execution_count": 7,
     "metadata": {},
     "output_type": "execute_result"
    }
   ],
   "source": [
    "rain_data.columns"
   ]
  },
  {
   "cell_type": "code",
   "execution_count": 8,
   "metadata": {},
   "outputs": [],
   "source": [
    "rain_data.columns = map(lambda x: x.lower(),rain_data.columns)"
   ]
  },
  {
   "cell_type": "markdown",
   "metadata": {},
   "source": [
    "* **Wind Dataframes - Columns names**"
   ]
  },
  {
   "cell_type": "code",
   "execution_count": 9,
   "metadata": {},
   "outputs": [
    {
     "name": "stdout",
     "output_type": "stream",
     "text": [
      "Dataframe 0 - rows: 20000, cols: 8.           \n",
      "Columns named as reference (0): [ True  True  True  True  True  True  True  True]\n",
      "Dataframe 1 - rows: 20000, cols: 8.           \n",
      "Columns named as reference (0): [ True  True  True  True  True  True  True  True]\n",
      "Dataframe 2 - rows: 20000, cols: 8.           \n",
      "Columns named as reference (0): [ True  True False False False False False False]\n",
      "Dataframe 3 - rows: 20000, cols: 8.           \n",
      "Columns named as reference (0): [ True  True False False False False False False]\n",
      "Dataframe 4 - rows: 20000, cols: 8.           \n",
      "Columns named as reference (0): [ True  True False False False False False False]\n",
      "Dataframe 5 - rows: 20000, cols: 8.           \n",
      "Columns named as reference (0): [ True  True False False False False False False]\n",
      "Dataframe 6 - rows: 22193, cols: 8.           \n",
      "Columns named as reference (0): [ True  True False False False False False False]\n",
      "Dataframe 7 - rows: 22193, cols: 8.           \n",
      "Columns named as reference (0): [ True  True False False False False False False]\n"
     ]
    }
   ],
   "source": [
    "#checking columns names (Using wind_data_lst[0] as reference)\n",
    "for elem in range (0,len(wind_data_lst)):\n",
    "    print(f\"Dataframe {elem} - rows: {wind_data_lst[elem].shape[0]}, cols: {wind_data_lst[elem].shape[1]}. \\\n",
    "          \\nColumns named as reference (0): {wind_data_lst[0].columns == wind_data_lst[elem].columns}\")"
   ]
  },
  {
   "cell_type": "markdown",
   "metadata": {},
   "source": [
    "As we can see, the first column in all dataframes are standardized, but from index 2 to 7 the other columns don't match with its references in dataframe 0. So, I checked if the \"False\" columns are equal to each other looking for more differences. Than I made the necessary corrections and concatenate all wind dataframes in one."
   ]
  },
  {
   "cell_type": "code",
   "execution_count": 10,
   "metadata": {},
   "outputs": [
    {
     "name": "stdout",
     "output_type": "stream",
     "text": [
      "Dataframe 2 - rows: 20000, cols: 8.           \n",
      "Columns named as reference (2): [ True  True  True  True  True  True  True  True]\n",
      "Dataframe 3 - rows: 20000, cols: 8.           \n",
      "Columns named as reference (2): [ True  True  True  True  True  True  True  True]\n",
      "Dataframe 4 - rows: 20000, cols: 8.           \n",
      "Columns named as reference (2): [ True  True  True  True  True  True  True  True]\n",
      "Dataframe 5 - rows: 20000, cols: 8.           \n",
      "Columns named as reference (2): [ True  True  True  True  True  True  True  True]\n",
      "Dataframe 6 - rows: 22193, cols: 8.           \n",
      "Columns named as reference (2): [ True  True  True  True  True  True  True  True]\n",
      "Dataframe 7 - rows: 22193, cols: 8.           \n",
      "Columns named as reference (2): [ True  True  True  True  True  True  True  True]\n"
     ]
    }
   ],
   "source": [
    "for elem in range (2,len(wind_data_lst)):\n",
    "    print(f\"Dataframe {elem} - rows: {wind_data_lst[elem].shape[0]}, cols: {wind_data_lst[elem].shape[1]}. \\\n",
    "          \\nColumns named as reference (2): {wind_data_lst[2].columns == wind_data_lst[elem].columns}\")"
   ]
  },
  {
   "cell_type": "code",
   "execution_count": 11,
   "metadata": {},
   "outputs": [],
   "source": [
    "wind_data_lst[0].columns = [name.replace(\"_\",\"\") for name in wind_data_lst[0].columns]\n",
    "wind_data_lst[1].columns = [name.replace(\"_\",\"\") for name in wind_data_lst[0].columns]\n",
    "wind_data = pd.concat(wind_data_lst)"
   ]
  },
  {
   "cell_type": "markdown",
   "metadata": {},
   "source": [
    "### Merging Dataframes"
   ]
  },
  {
   "cell_type": "code",
   "execution_count": 12,
   "metadata": {},
   "outputs": [
    {
     "data": {
      "text/html": [
       "<div>\n",
       "<style scoped>\n",
       "    .dataframe tbody tr th:only-of-type {\n",
       "        vertical-align: middle;\n",
       "    }\n",
       "\n",
       "    .dataframe tbody tr th {\n",
       "        vertical-align: top;\n",
       "    }\n",
       "\n",
       "    .dataframe thead th {\n",
       "        text-align: right;\n",
       "    }\n",
       "</style>\n",
       "<table border=\"1\" class=\"dataframe\">\n",
       "  <thead>\n",
       "    <tr style=\"text-align: right;\">\n",
       "      <th></th>\n",
       "      <th>date</th>\n",
       "      <th>location</th>\n",
       "      <th>mintemp</th>\n",
       "      <th>maxtemp</th>\n",
       "      <th>rainfall</th>\n",
       "      <th>evaporation</th>\n",
       "      <th>sunshine</th>\n",
       "      <th>humidity9am</th>\n",
       "      <th>humidity3pm</th>\n",
       "      <th>pressure9am</th>\n",
       "      <th>...</th>\n",
       "      <th>temp9am</th>\n",
       "      <th>temp3pm</th>\n",
       "      <th>raintoday</th>\n",
       "      <th>amountofrain</th>\n",
       "      <th>raintomorrow</th>\n",
       "      <th>temp</th>\n",
       "      <th>humidity</th>\n",
       "      <th>precipitation3pm</th>\n",
       "      <th>precipitation9am</th>\n",
       "      <th>modelo_vigente</th>\n",
       "    </tr>\n",
       "  </thead>\n",
       "  <tbody>\n",
       "    <tr>\n",
       "      <th>0</th>\n",
       "      <td>2008-12-01</td>\n",
       "      <td>Albury</td>\n",
       "      <td>13.4</td>\n",
       "      <td>22.9</td>\n",
       "      <td>0.6</td>\n",
       "      <td>NaN</td>\n",
       "      <td>NaN</td>\n",
       "      <td>71.0</td>\n",
       "      <td>22.0</td>\n",
       "      <td>1007.7</td>\n",
       "      <td>...</td>\n",
       "      <td>16.9</td>\n",
       "      <td>21.8</td>\n",
       "      <td>No</td>\n",
       "      <td>0.0</td>\n",
       "      <td>No</td>\n",
       "      <td>29.48</td>\n",
       "      <td>28.400000</td>\n",
       "      <td>12</td>\n",
       "      <td>5.115360</td>\n",
       "      <td>0.089825</td>\n",
       "    </tr>\n",
       "    <tr>\n",
       "      <th>1</th>\n",
       "      <td>2008-12-02</td>\n",
       "      <td>Albury</td>\n",
       "      <td>7.4</td>\n",
       "      <td>25.1</td>\n",
       "      <td>0.0</td>\n",
       "      <td>NaN</td>\n",
       "      <td>NaN</td>\n",
       "      <td>44.0</td>\n",
       "      <td>25.0</td>\n",
       "      <td>1010.6</td>\n",
       "      <td>...</td>\n",
       "      <td>17.2</td>\n",
       "      <td>24.3</td>\n",
       "      <td>No</td>\n",
       "      <td>0.0</td>\n",
       "      <td>No</td>\n",
       "      <td>32.12</td>\n",
       "      <td>2.208569</td>\n",
       "      <td>10</td>\n",
       "      <td>21.497100</td>\n",
       "      <td>0.023477</td>\n",
       "    </tr>\n",
       "    <tr>\n",
       "      <th>2</th>\n",
       "      <td>2008-12-03</td>\n",
       "      <td>Albury</td>\n",
       "      <td>12.9</td>\n",
       "      <td>25.7</td>\n",
       "      <td>0.0</td>\n",
       "      <td>NaN</td>\n",
       "      <td>NaN</td>\n",
       "      <td>38.0</td>\n",
       "      <td>30.0</td>\n",
       "      <td>1007.6</td>\n",
       "      <td>...</td>\n",
       "      <td>21.0</td>\n",
       "      <td>23.2</td>\n",
       "      <td>No</td>\n",
       "      <td>0.0</td>\n",
       "      <td>No</td>\n",
       "      <td>32.84</td>\n",
       "      <td>38.000000</td>\n",
       "      <td>17</td>\n",
       "      <td>20.782859</td>\n",
       "      <td>0.027580</td>\n",
       "    </tr>\n",
       "    <tr>\n",
       "      <th>3</th>\n",
       "      <td>2008-12-04</td>\n",
       "      <td>Albury</td>\n",
       "      <td>9.2</td>\n",
       "      <td>28.0</td>\n",
       "      <td>0.0</td>\n",
       "      <td>NaN</td>\n",
       "      <td>NaN</td>\n",
       "      <td>45.0</td>\n",
       "      <td>16.0</td>\n",
       "      <td>1017.6</td>\n",
       "      <td>...</td>\n",
       "      <td>18.1</td>\n",
       "      <td>26.5</td>\n",
       "      <td>No</td>\n",
       "      <td>1.0</td>\n",
       "      <td>No</td>\n",
       "      <td>35.60</td>\n",
       "      <td>21.200000</td>\n",
       "      <td>8</td>\n",
       "      <td>12.028646</td>\n",
       "      <td>0.023962</td>\n",
       "    </tr>\n",
       "    <tr>\n",
       "      <th>4</th>\n",
       "      <td>2008-12-05</td>\n",
       "      <td>Albury</td>\n",
       "      <td>17.5</td>\n",
       "      <td>32.3</td>\n",
       "      <td>1.0</td>\n",
       "      <td>NaN</td>\n",
       "      <td>NaN</td>\n",
       "      <td>82.0</td>\n",
       "      <td>33.0</td>\n",
       "      <td>1010.8</td>\n",
       "      <td>...</td>\n",
       "      <td>17.8</td>\n",
       "      <td>29.7</td>\n",
       "      <td>No</td>\n",
       "      <td>0.2</td>\n",
       "      <td>No</td>\n",
       "      <td>40.76</td>\n",
       "      <td>41.600000</td>\n",
       "      <td>9</td>\n",
       "      <td>11.883546</td>\n",
       "      <td>0.220164</td>\n",
       "    </tr>\n",
       "  </tbody>\n",
       "</table>\n",
       "<p>5 rows × 23 columns</p>\n",
       "</div>"
      ],
      "text/plain": [
       "         date location  mintemp  maxtemp  rainfall  evaporation  sunshine  \\\n",
       "0  2008-12-01   Albury     13.4     22.9       0.6          NaN       NaN   \n",
       "1  2008-12-02   Albury      7.4     25.1       0.0          NaN       NaN   \n",
       "2  2008-12-03   Albury     12.9     25.7       0.0          NaN       NaN   \n",
       "3  2008-12-04   Albury      9.2     28.0       0.0          NaN       NaN   \n",
       "4  2008-12-05   Albury     17.5     32.3       1.0          NaN       NaN   \n",
       "\n",
       "   humidity9am  humidity3pm  pressure9am  ...  temp9am  temp3pm  raintoday  \\\n",
       "0         71.0         22.0       1007.7  ...     16.9     21.8         No   \n",
       "1         44.0         25.0       1010.6  ...     17.2     24.3         No   \n",
       "2         38.0         30.0       1007.6  ...     21.0     23.2         No   \n",
       "3         45.0         16.0       1017.6  ...     18.1     26.5         No   \n",
       "4         82.0         33.0       1010.8  ...     17.8     29.7         No   \n",
       "\n",
       "   amountofrain  raintomorrow   temp   humidity precipitation3pm  \\\n",
       "0           0.0            No  29.48  28.400000               12   \n",
       "1           0.0            No  32.12   2.208569               10   \n",
       "2           0.0            No  32.84  38.000000               17   \n",
       "3           1.0            No  35.60  21.200000                8   \n",
       "4           0.2            No  40.76  41.600000                9   \n",
       "\n",
       "   precipitation9am  modelo_vigente  \n",
       "0          5.115360        0.089825  \n",
       "1         21.497100        0.023477  \n",
       "2         20.782859        0.027580  \n",
       "3         12.028646        0.023962  \n",
       "4         11.883546        0.220164  \n",
       "\n",
       "[5 rows x 23 columns]"
      ]
     },
     "execution_count": 12,
     "metadata": {},
     "output_type": "execute_result"
    }
   ],
   "source": [
    "rain_data.head()"
   ]
  },
  {
   "cell_type": "code",
   "execution_count": 13,
   "metadata": {},
   "outputs": [
    {
     "data": {
      "text/html": [
       "<div>\n",
       "<style scoped>\n",
       "    .dataframe tbody tr th:only-of-type {\n",
       "        vertical-align: middle;\n",
       "    }\n",
       "\n",
       "    .dataframe tbody tr th {\n",
       "        vertical-align: top;\n",
       "    }\n",
       "\n",
       "    .dataframe thead th {\n",
       "        text-align: right;\n",
       "    }\n",
       "</style>\n",
       "<table border=\"1\" class=\"dataframe\">\n",
       "  <thead>\n",
       "    <tr style=\"text-align: right;\">\n",
       "      <th></th>\n",
       "      <th>date</th>\n",
       "      <th>location</th>\n",
       "      <th>windgustdir</th>\n",
       "      <th>windgustspeed</th>\n",
       "      <th>winddir9am</th>\n",
       "      <th>winddir3pm</th>\n",
       "      <th>windspeed9am</th>\n",
       "      <th>windspeed3pm</th>\n",
       "    </tr>\n",
       "  </thead>\n",
       "  <tbody>\n",
       "    <tr>\n",
       "      <th>0</th>\n",
       "      <td>2007-11-01</td>\n",
       "      <td>Canberra</td>\n",
       "      <td>NW</td>\n",
       "      <td>30.0</td>\n",
       "      <td>SW</td>\n",
       "      <td>NW</td>\n",
       "      <td>6.0</td>\n",
       "      <td>20.0</td>\n",
       "    </tr>\n",
       "    <tr>\n",
       "      <th>1</th>\n",
       "      <td>2007-11-02</td>\n",
       "      <td>Canberra</td>\n",
       "      <td>ENE</td>\n",
       "      <td>39.0</td>\n",
       "      <td>E</td>\n",
       "      <td>W</td>\n",
       "      <td>4.0</td>\n",
       "      <td>17.0</td>\n",
       "    </tr>\n",
       "    <tr>\n",
       "      <th>2</th>\n",
       "      <td>2007-11-03</td>\n",
       "      <td>Canberra</td>\n",
       "      <td>NW</td>\n",
       "      <td>85.0</td>\n",
       "      <td>N</td>\n",
       "      <td>NNE</td>\n",
       "      <td>6.0</td>\n",
       "      <td>6.0</td>\n",
       "    </tr>\n",
       "    <tr>\n",
       "      <th>3</th>\n",
       "      <td>2007-11-04</td>\n",
       "      <td>Canberra</td>\n",
       "      <td>NW</td>\n",
       "      <td>54.0</td>\n",
       "      <td>WNW</td>\n",
       "      <td>W</td>\n",
       "      <td>30.0</td>\n",
       "      <td>24.0</td>\n",
       "    </tr>\n",
       "    <tr>\n",
       "      <th>4</th>\n",
       "      <td>2007-11-05</td>\n",
       "      <td>Canberra</td>\n",
       "      <td>SSE</td>\n",
       "      <td>50.0</td>\n",
       "      <td>SSE</td>\n",
       "      <td>ESE</td>\n",
       "      <td>20.0</td>\n",
       "      <td>28.0</td>\n",
       "    </tr>\n",
       "  </tbody>\n",
       "</table>\n",
       "</div>"
      ],
      "text/plain": [
       "         date  location windgustdir  windgustspeed winddir9am winddir3pm  \\\n",
       "0  2007-11-01  Canberra          NW           30.0         SW         NW   \n",
       "1  2007-11-02  Canberra         ENE           39.0          E          W   \n",
       "2  2007-11-03  Canberra          NW           85.0          N        NNE   \n",
       "3  2007-11-04  Canberra          NW           54.0        WNW          W   \n",
       "4  2007-11-05  Canberra         SSE           50.0        SSE        ESE   \n",
       "\n",
       "   windspeed9am  windspeed3pm  \n",
       "0           6.0          20.0  \n",
       "1           4.0          17.0  \n",
       "2           6.0           6.0  \n",
       "3          30.0          24.0  \n",
       "4          20.0          28.0  "
      ]
     },
     "execution_count": 13,
     "metadata": {},
     "output_type": "execute_result"
    }
   ],
   "source": [
    "wind_data.head()"
   ]
  },
  {
   "cell_type": "code",
   "execution_count": 14,
   "metadata": {},
   "outputs": [
    {
     "data": {
      "text/plain": [
       "0"
      ]
     },
     "execution_count": 14,
     "metadata": {},
     "output_type": "execute_result"
    }
   ],
   "source": [
    "#all locations in the wind_data are also represented in rain_data\n",
    "rain_unique_location = set(rain_data['location'].unique())\n",
    "wind_unique_location = set(wind_data['location'].unique())\n",
    "len(wind_unique_location.difference(rain_unique_location))"
   ]
  },
  {
   "cell_type": "code",
   "execution_count": 15,
   "metadata": {},
   "outputs": [
    {
     "data": {
      "text/plain": [
       "0"
      ]
     },
     "execution_count": 15,
     "metadata": {},
     "output_type": "execute_result"
    }
   ],
   "source": [
    "#all dates in the wind_data are also represented in rain_data\n",
    "rain_unique_date = set(rain_data['date'].unique())\n",
    "wind_unique_date = set(wind_data['date'].unique())\n",
    "len(wind_unique_date.difference(rain_unique_date))"
   ]
  },
  {
   "cell_type": "code",
   "execution_count": 16,
   "metadata": {},
   "outputs": [],
   "source": [
    "weather = pd.merge(rain_data,wind_data, how=\"left\", on=['date','location']).reset_index()"
   ]
  },
  {
   "cell_type": "code",
   "execution_count": 17,
   "metadata": {},
   "outputs": [
    {
     "data": {
      "text/plain": [
       "(164386, 30)"
      ]
     },
     "execution_count": 17,
     "metadata": {},
     "output_type": "execute_result"
    }
   ],
   "source": [
    "weather.shape"
   ]
  },
  {
   "cell_type": "markdown",
   "metadata": {},
   "source": [
    "### Identifying and removing duplicated rows"
   ]
  },
  {
   "cell_type": "code",
   "execution_count": 18,
   "metadata": {},
   "outputs": [
    {
     "name": "stdout",
     "output_type": "stream",
     "text": [
      "Quantity of duplicated rows: 22193\n"
     ]
    }
   ],
   "source": [
    "print(f\"Quantity of duplicated rows: {weather.duplicated(subset=['date','location']).sum()}\")"
   ]
  },
  {
   "cell_type": "code",
   "execution_count": 19,
   "metadata": {},
   "outputs": [],
   "source": [
    "weather.drop_duplicates(subset=['date','location'], inplace=True)"
   ]
  },
  {
   "cell_type": "code",
   "execution_count": 20,
   "metadata": {},
   "outputs": [
    {
     "data": {
      "text/plain": [
       "(142193, 30)"
      ]
     },
     "execution_count": 20,
     "metadata": {},
     "output_type": "execute_result"
    }
   ],
   "source": [
    "weather.reset_index(drop=True, inplace=True)\n",
    "weather.shape"
   ]
  },
  {
   "cell_type": "markdown",
   "metadata": {},
   "source": [
    "### Handling datetime"
   ]
  },
  {
   "cell_type": "code",
   "execution_count": 21,
   "metadata": {},
   "outputs": [],
   "source": [
    "weather['date'] = pd.to_datetime(weather['date'], yearfirst=True)"
   ]
  },
  {
   "cell_type": "code",
   "execution_count": 22,
   "metadata": {},
   "outputs": [],
   "source": [
    "weather['month'] = [date.month for date in weather['date']]\n",
    "weather['day'] = [date.day for date in weather['date']]\n",
    "weather['year'] = [date.year for date in weather['date']]"
   ]
  },
  {
   "cell_type": "code",
   "execution_count": 23,
   "metadata": {},
   "outputs": [],
   "source": [
    "#Putting similar data side by side\n",
    "weather = weather[['date','year', 'month','day', 'location', 'temp', 'mintemp', 'maxtemp', 'temp9am', 'temp3pm', \n",
    "                   'sunshine', 'rainfall', 'evaporation', 'amountofrain', 'raintoday', 'raintomorrow', 'humidity',\n",
    "                   'humidity9am', 'humidity3pm', 'pressure9am', 'pressure3pm', 'cloud9am', 'cloud3pm', 'precipitation3pm',\n",
    "                   'precipitation9am', 'windgustdir', 'windgustspeed', 'winddir9am', 'winddir3pm', 'windspeed9am',\n",
    "                   'windspeed3pm', 'modelo_vigente']]"
   ]
  },
  {
   "cell_type": "markdown",
   "metadata": {},
   "source": [
    "### Data Overview"
   ]
  },
  {
   "cell_type": "code",
   "execution_count": 24,
   "metadata": {},
   "outputs": [
    {
     "data": {
      "text/html": [
       "<div>\n",
       "<style scoped>\n",
       "    .dataframe tbody tr th:only-of-type {\n",
       "        vertical-align: middle;\n",
       "    }\n",
       "\n",
       "    .dataframe tbody tr th {\n",
       "        vertical-align: top;\n",
       "    }\n",
       "\n",
       "    .dataframe thead th {\n",
       "        text-align: right;\n",
       "    }\n",
       "</style>\n",
       "<table border=\"1\" class=\"dataframe\">\n",
       "  <thead>\n",
       "    <tr style=\"text-align: right;\">\n",
       "      <th></th>\n",
       "      <th>count</th>\n",
       "      <th>mean</th>\n",
       "      <th>std</th>\n",
       "      <th>min</th>\n",
       "      <th>25%</th>\n",
       "      <th>50%</th>\n",
       "      <th>75%</th>\n",
       "      <th>max</th>\n",
       "    </tr>\n",
       "  </thead>\n",
       "  <tbody>\n",
       "    <tr>\n",
       "      <th>temp</th>\n",
       "      <td>141871.0</td>\n",
       "      <td>28.505419</td>\n",
       "      <td>10.237506</td>\n",
       "      <td>-3.760000</td>\n",
       "      <td>22.520000</td>\n",
       "      <td>28.520000</td>\n",
       "      <td>35.480000</td>\n",
       "      <td>59.72000</td>\n",
       "    </tr>\n",
       "    <tr>\n",
       "      <th>mintemp</th>\n",
       "      <td>141556.0</td>\n",
       "      <td>12.186400</td>\n",
       "      <td>6.403283</td>\n",
       "      <td>-8.500000</td>\n",
       "      <td>7.600000</td>\n",
       "      <td>12.000000</td>\n",
       "      <td>16.800000</td>\n",
       "      <td>33.90000</td>\n",
       "    </tr>\n",
       "    <tr>\n",
       "      <th>maxtemp</th>\n",
       "      <td>141871.0</td>\n",
       "      <td>23.226784</td>\n",
       "      <td>7.117618</td>\n",
       "      <td>-4.800000</td>\n",
       "      <td>17.900000</td>\n",
       "      <td>22.600000</td>\n",
       "      <td>28.200000</td>\n",
       "      <td>48.10000</td>\n",
       "    </tr>\n",
       "    <tr>\n",
       "      <th>temp9am</th>\n",
       "      <td>141289.0</td>\n",
       "      <td>16.987509</td>\n",
       "      <td>6.492838</td>\n",
       "      <td>-7.200000</td>\n",
       "      <td>12.300000</td>\n",
       "      <td>16.700000</td>\n",
       "      <td>21.600000</td>\n",
       "      <td>40.20000</td>\n",
       "    </tr>\n",
       "    <tr>\n",
       "      <th>temp3pm</th>\n",
       "      <td>139467.0</td>\n",
       "      <td>21.687235</td>\n",
       "      <td>6.937594</td>\n",
       "      <td>-5.400000</td>\n",
       "      <td>16.600000</td>\n",
       "      <td>21.100000</td>\n",
       "      <td>26.400000</td>\n",
       "      <td>46.70000</td>\n",
       "    </tr>\n",
       "    <tr>\n",
       "      <th>sunshine</th>\n",
       "      <td>74377.0</td>\n",
       "      <td>7.624853</td>\n",
       "      <td>3.781525</td>\n",
       "      <td>0.000000</td>\n",
       "      <td>4.900000</td>\n",
       "      <td>8.500000</td>\n",
       "      <td>10.600000</td>\n",
       "      <td>14.50000</td>\n",
       "    </tr>\n",
       "    <tr>\n",
       "      <th>rainfall</th>\n",
       "      <td>140787.0</td>\n",
       "      <td>2.349974</td>\n",
       "      <td>8.465173</td>\n",
       "      <td>0.000000</td>\n",
       "      <td>0.000000</td>\n",
       "      <td>0.000000</td>\n",
       "      <td>0.800000</td>\n",
       "      <td>371.00000</td>\n",
       "    </tr>\n",
       "    <tr>\n",
       "      <th>evaporation</th>\n",
       "      <td>81350.0</td>\n",
       "      <td>5.469824</td>\n",
       "      <td>4.188537</td>\n",
       "      <td>0.000000</td>\n",
       "      <td>2.600000</td>\n",
       "      <td>4.800000</td>\n",
       "      <td>7.400000</td>\n",
       "      <td>145.00000</td>\n",
       "    </tr>\n",
       "    <tr>\n",
       "      <th>amountofrain</th>\n",
       "      <td>142193.0</td>\n",
       "      <td>2.360682</td>\n",
       "      <td>8.477969</td>\n",
       "      <td>0.000000</td>\n",
       "      <td>0.000000</td>\n",
       "      <td>0.000000</td>\n",
       "      <td>0.800000</td>\n",
       "      <td>371.00000</td>\n",
       "    </tr>\n",
       "    <tr>\n",
       "      <th>humidity</th>\n",
       "      <td>138583.0</td>\n",
       "      <td>61.991179</td>\n",
       "      <td>26.649111</td>\n",
       "      <td>2.000000</td>\n",
       "      <td>44.000000</td>\n",
       "      <td>63.200000</td>\n",
       "      <td>80.000000</td>\n",
       "      <td>122.00000</td>\n",
       "    </tr>\n",
       "    <tr>\n",
       "      <th>humidity9am</th>\n",
       "      <td>140419.0</td>\n",
       "      <td>68.843810</td>\n",
       "      <td>19.051293</td>\n",
       "      <td>0.000000</td>\n",
       "      <td>57.000000</td>\n",
       "      <td>70.000000</td>\n",
       "      <td>83.000000</td>\n",
       "      <td>100.00000</td>\n",
       "    </tr>\n",
       "    <tr>\n",
       "      <th>humidity3pm</th>\n",
       "      <td>138583.0</td>\n",
       "      <td>51.482606</td>\n",
       "      <td>20.797772</td>\n",
       "      <td>0.000000</td>\n",
       "      <td>37.000000</td>\n",
       "      <td>52.000000</td>\n",
       "      <td>66.000000</td>\n",
       "      <td>100.00000</td>\n",
       "    </tr>\n",
       "    <tr>\n",
       "      <th>pressure9am</th>\n",
       "      <td>128179.0</td>\n",
       "      <td>1017.653758</td>\n",
       "      <td>7.105476</td>\n",
       "      <td>980.500000</td>\n",
       "      <td>1012.900000</td>\n",
       "      <td>1017.600000</td>\n",
       "      <td>1022.400000</td>\n",
       "      <td>1041.00000</td>\n",
       "    </tr>\n",
       "    <tr>\n",
       "      <th>pressure3pm</th>\n",
       "      <td>128212.0</td>\n",
       "      <td>1015.258204</td>\n",
       "      <td>7.036677</td>\n",
       "      <td>977.100000</td>\n",
       "      <td>1010.400000</td>\n",
       "      <td>1015.200000</td>\n",
       "      <td>1020.000000</td>\n",
       "      <td>1039.60000</td>\n",
       "    </tr>\n",
       "    <tr>\n",
       "      <th>cloud9am</th>\n",
       "      <td>88536.0</td>\n",
       "      <td>4.437189</td>\n",
       "      <td>2.887016</td>\n",
       "      <td>0.000000</td>\n",
       "      <td>1.000000</td>\n",
       "      <td>5.000000</td>\n",
       "      <td>7.000000</td>\n",
       "      <td>9.00000</td>\n",
       "    </tr>\n",
       "    <tr>\n",
       "      <th>cloud3pm</th>\n",
       "      <td>85099.0</td>\n",
       "      <td>4.503167</td>\n",
       "      <td>2.720633</td>\n",
       "      <td>0.000000</td>\n",
       "      <td>2.000000</td>\n",
       "      <td>5.000000</td>\n",
       "      <td>7.000000</td>\n",
       "      <td>9.00000</td>\n",
       "    </tr>\n",
       "    <tr>\n",
       "      <th>precipitation3pm</th>\n",
       "      <td>142193.0</td>\n",
       "      <td>10.014164</td>\n",
       "      <td>3.169832</td>\n",
       "      <td>0.000000</td>\n",
       "      <td>8.000000</td>\n",
       "      <td>10.000000</td>\n",
       "      <td>12.000000</td>\n",
       "      <td>26.00000</td>\n",
       "    </tr>\n",
       "    <tr>\n",
       "      <th>precipitation9am</th>\n",
       "      <td>142193.0</td>\n",
       "      <td>10.000748</td>\n",
       "      <td>4.997908</td>\n",
       "      <td>-17.739346</td>\n",
       "      <td>6.650238</td>\n",
       "      <td>10.000009</td>\n",
       "      <td>13.389306</td>\n",
       "      <td>32.47859</td>\n",
       "    </tr>\n",
       "    <tr>\n",
       "      <th>windgustspeed</th>\n",
       "      <td>132923.0</td>\n",
       "      <td>39.984292</td>\n",
       "      <td>13.588801</td>\n",
       "      <td>6.000000</td>\n",
       "      <td>31.000000</td>\n",
       "      <td>39.000000</td>\n",
       "      <td>48.000000</td>\n",
       "      <td>135.00000</td>\n",
       "    </tr>\n",
       "    <tr>\n",
       "      <th>windspeed9am</th>\n",
       "      <td>140845.0</td>\n",
       "      <td>14.001988</td>\n",
       "      <td>8.893337</td>\n",
       "      <td>0.000000</td>\n",
       "      <td>7.000000</td>\n",
       "      <td>13.000000</td>\n",
       "      <td>19.000000</td>\n",
       "      <td>130.00000</td>\n",
       "    </tr>\n",
       "    <tr>\n",
       "      <th>windspeed3pm</th>\n",
       "      <td>139563.0</td>\n",
       "      <td>18.637576</td>\n",
       "      <td>8.803345</td>\n",
       "      <td>0.000000</td>\n",
       "      <td>13.000000</td>\n",
       "      <td>19.000000</td>\n",
       "      <td>24.000000</td>\n",
       "      <td>87.00000</td>\n",
       "    </tr>\n",
       "    <tr>\n",
       "      <th>modelo_vigente</th>\n",
       "      <td>142193.0</td>\n",
       "      <td>0.227804</td>\n",
       "      <td>0.272764</td>\n",
       "      <td>0.000000</td>\n",
       "      <td>0.030055</td>\n",
       "      <td>0.100853</td>\n",
       "      <td>0.329507</td>\n",
       "      <td>0.99940</td>\n",
       "    </tr>\n",
       "  </tbody>\n",
       "</table>\n",
       "</div>"
      ],
      "text/plain": [
       "                     count         mean        std         min          25%  \\\n",
       "temp              141871.0    28.505419  10.237506   -3.760000    22.520000   \n",
       "mintemp           141556.0    12.186400   6.403283   -8.500000     7.600000   \n",
       "maxtemp           141871.0    23.226784   7.117618   -4.800000    17.900000   \n",
       "temp9am           141289.0    16.987509   6.492838   -7.200000    12.300000   \n",
       "temp3pm           139467.0    21.687235   6.937594   -5.400000    16.600000   \n",
       "sunshine           74377.0     7.624853   3.781525    0.000000     4.900000   \n",
       "rainfall          140787.0     2.349974   8.465173    0.000000     0.000000   \n",
       "evaporation        81350.0     5.469824   4.188537    0.000000     2.600000   \n",
       "amountofrain      142193.0     2.360682   8.477969    0.000000     0.000000   \n",
       "humidity          138583.0    61.991179  26.649111    2.000000    44.000000   \n",
       "humidity9am       140419.0    68.843810  19.051293    0.000000    57.000000   \n",
       "humidity3pm       138583.0    51.482606  20.797772    0.000000    37.000000   \n",
       "pressure9am       128179.0  1017.653758   7.105476  980.500000  1012.900000   \n",
       "pressure3pm       128212.0  1015.258204   7.036677  977.100000  1010.400000   \n",
       "cloud9am           88536.0     4.437189   2.887016    0.000000     1.000000   \n",
       "cloud3pm           85099.0     4.503167   2.720633    0.000000     2.000000   \n",
       "precipitation3pm  142193.0    10.014164   3.169832    0.000000     8.000000   \n",
       "precipitation9am  142193.0    10.000748   4.997908  -17.739346     6.650238   \n",
       "windgustspeed     132923.0    39.984292  13.588801    6.000000    31.000000   \n",
       "windspeed9am      140845.0    14.001988   8.893337    0.000000     7.000000   \n",
       "windspeed3pm      139563.0    18.637576   8.803345    0.000000    13.000000   \n",
       "modelo_vigente    142193.0     0.227804   0.272764    0.000000     0.030055   \n",
       "\n",
       "                          50%          75%         max  \n",
       "temp                28.520000    35.480000    59.72000  \n",
       "mintemp             12.000000    16.800000    33.90000  \n",
       "maxtemp             22.600000    28.200000    48.10000  \n",
       "temp9am             16.700000    21.600000    40.20000  \n",
       "temp3pm             21.100000    26.400000    46.70000  \n",
       "sunshine             8.500000    10.600000    14.50000  \n",
       "rainfall             0.000000     0.800000   371.00000  \n",
       "evaporation          4.800000     7.400000   145.00000  \n",
       "amountofrain         0.000000     0.800000   371.00000  \n",
       "humidity            63.200000    80.000000   122.00000  \n",
       "humidity9am         70.000000    83.000000   100.00000  \n",
       "humidity3pm         52.000000    66.000000   100.00000  \n",
       "pressure9am       1017.600000  1022.400000  1041.00000  \n",
       "pressure3pm       1015.200000  1020.000000  1039.60000  \n",
       "cloud9am             5.000000     7.000000     9.00000  \n",
       "cloud3pm             5.000000     7.000000     9.00000  \n",
       "precipitation3pm    10.000000    12.000000    26.00000  \n",
       "precipitation9am    10.000009    13.389306    32.47859  \n",
       "windgustspeed       39.000000    48.000000   135.00000  \n",
       "windspeed9am        13.000000    19.000000   130.00000  \n",
       "windspeed3pm        19.000000    24.000000    87.00000  \n",
       "modelo_vigente       0.100853     0.329507     0.99940  "
      ]
     },
     "execution_count": 24,
     "metadata": {},
     "output_type": "execute_result"
    }
   ],
   "source": [
    "weather.drop(['year','month','day'], axis=1).describe().T"
   ]
  },
  {
   "cell_type": "markdown",
   "metadata": {},
   "source": [
    "**Insights**\n",
    "- temp values are higher than maxtemp\n",
    "- amountofrain and rainfall have very close values\n",
    "- cloud9am and cloud3pm maximum values are higher than the maximum value accepted by the unit of measure.\n",
    "- precipitation9am minimum values are negative (not accepted by the unit of measure)"
   ]
  },
  {
   "cell_type": "markdown",
   "metadata": {},
   "source": [
    "### Analysing missing values"
   ]
  },
  {
   "cell_type": "code",
   "execution_count": 25,
   "metadata": {},
   "outputs": [
    {
     "data": {
      "text/html": [
       "<div>\n",
       "<style scoped>\n",
       "    .dataframe tbody tr th:only-of-type {\n",
       "        vertical-align: middle;\n",
       "    }\n",
       "\n",
       "    .dataframe tbody tr th {\n",
       "        vertical-align: top;\n",
       "    }\n",
       "\n",
       "    .dataframe thead th {\n",
       "        text-align: right;\n",
       "    }\n",
       "</style>\n",
       "<table border=\"1\" class=\"dataframe\">\n",
       "  <thead>\n",
       "    <tr style=\"text-align: right;\">\n",
       "      <th></th>\n",
       "      <th>missing</th>\n",
       "      <th>missing_prop</th>\n",
       "      <th>dtypes</th>\n",
       "    </tr>\n",
       "  </thead>\n",
       "  <tbody>\n",
       "    <tr>\n",
       "      <th>date</th>\n",
       "      <td>0</td>\n",
       "      <td>0.000000</td>\n",
       "      <td>datetime64[ns]</td>\n",
       "    </tr>\n",
       "    <tr>\n",
       "      <th>year</th>\n",
       "      <td>0</td>\n",
       "      <td>0.000000</td>\n",
       "      <td>int64</td>\n",
       "    </tr>\n",
       "    <tr>\n",
       "      <th>month</th>\n",
       "      <td>0</td>\n",
       "      <td>0.000000</td>\n",
       "      <td>int64</td>\n",
       "    </tr>\n",
       "    <tr>\n",
       "      <th>day</th>\n",
       "      <td>0</td>\n",
       "      <td>0.000000</td>\n",
       "      <td>int64</td>\n",
       "    </tr>\n",
       "    <tr>\n",
       "      <th>location</th>\n",
       "      <td>0</td>\n",
       "      <td>0.000000</td>\n",
       "      <td>object</td>\n",
       "    </tr>\n",
       "    <tr>\n",
       "      <th>temp</th>\n",
       "      <td>322</td>\n",
       "      <td>0.002265</td>\n",
       "      <td>float64</td>\n",
       "    </tr>\n",
       "    <tr>\n",
       "      <th>mintemp</th>\n",
       "      <td>637</td>\n",
       "      <td>0.004480</td>\n",
       "      <td>float64</td>\n",
       "    </tr>\n",
       "    <tr>\n",
       "      <th>maxtemp</th>\n",
       "      <td>322</td>\n",
       "      <td>0.002265</td>\n",
       "      <td>float64</td>\n",
       "    </tr>\n",
       "    <tr>\n",
       "      <th>temp9am</th>\n",
       "      <td>904</td>\n",
       "      <td>0.006358</td>\n",
       "      <td>float64</td>\n",
       "    </tr>\n",
       "    <tr>\n",
       "      <th>temp3pm</th>\n",
       "      <td>2726</td>\n",
       "      <td>0.019171</td>\n",
       "      <td>float64</td>\n",
       "    </tr>\n",
       "    <tr>\n",
       "      <th>sunshine</th>\n",
       "      <td>67816</td>\n",
       "      <td>0.476929</td>\n",
       "      <td>float64</td>\n",
       "    </tr>\n",
       "    <tr>\n",
       "      <th>rainfall</th>\n",
       "      <td>1406</td>\n",
       "      <td>0.009888</td>\n",
       "      <td>float64</td>\n",
       "    </tr>\n",
       "    <tr>\n",
       "      <th>evaporation</th>\n",
       "      <td>60843</td>\n",
       "      <td>0.427890</td>\n",
       "      <td>float64</td>\n",
       "    </tr>\n",
       "    <tr>\n",
       "      <th>amountofrain</th>\n",
       "      <td>0</td>\n",
       "      <td>0.000000</td>\n",
       "      <td>float64</td>\n",
       "    </tr>\n",
       "    <tr>\n",
       "      <th>raintoday</th>\n",
       "      <td>1406</td>\n",
       "      <td>0.009888</td>\n",
       "      <td>object</td>\n",
       "    </tr>\n",
       "    <tr>\n",
       "      <th>raintomorrow</th>\n",
       "      <td>0</td>\n",
       "      <td>0.000000</td>\n",
       "      <td>object</td>\n",
       "    </tr>\n",
       "    <tr>\n",
       "      <th>humidity</th>\n",
       "      <td>3610</td>\n",
       "      <td>0.025388</td>\n",
       "      <td>float64</td>\n",
       "    </tr>\n",
       "    <tr>\n",
       "      <th>humidity9am</th>\n",
       "      <td>1774</td>\n",
       "      <td>0.012476</td>\n",
       "      <td>float64</td>\n",
       "    </tr>\n",
       "    <tr>\n",
       "      <th>humidity3pm</th>\n",
       "      <td>3610</td>\n",
       "      <td>0.025388</td>\n",
       "      <td>float64</td>\n",
       "    </tr>\n",
       "    <tr>\n",
       "      <th>pressure9am</th>\n",
       "      <td>14014</td>\n",
       "      <td>0.098556</td>\n",
       "      <td>float64</td>\n",
       "    </tr>\n",
       "    <tr>\n",
       "      <th>pressure3pm</th>\n",
       "      <td>13981</td>\n",
       "      <td>0.098324</td>\n",
       "      <td>float64</td>\n",
       "    </tr>\n",
       "    <tr>\n",
       "      <th>cloud9am</th>\n",
       "      <td>53657</td>\n",
       "      <td>0.377353</td>\n",
       "      <td>float64</td>\n",
       "    </tr>\n",
       "    <tr>\n",
       "      <th>cloud3pm</th>\n",
       "      <td>57094</td>\n",
       "      <td>0.401525</td>\n",
       "      <td>float64</td>\n",
       "    </tr>\n",
       "    <tr>\n",
       "      <th>precipitation3pm</th>\n",
       "      <td>0</td>\n",
       "      <td>0.000000</td>\n",
       "      <td>int64</td>\n",
       "    </tr>\n",
       "    <tr>\n",
       "      <th>precipitation9am</th>\n",
       "      <td>0</td>\n",
       "      <td>0.000000</td>\n",
       "      <td>float64</td>\n",
       "    </tr>\n",
       "    <tr>\n",
       "      <th>windgustdir</th>\n",
       "      <td>9330</td>\n",
       "      <td>0.065615</td>\n",
       "      <td>object</td>\n",
       "    </tr>\n",
       "    <tr>\n",
       "      <th>windgustspeed</th>\n",
       "      <td>9270</td>\n",
       "      <td>0.065193</td>\n",
       "      <td>float64</td>\n",
       "    </tr>\n",
       "    <tr>\n",
       "      <th>winddir9am</th>\n",
       "      <td>10013</td>\n",
       "      <td>0.070418</td>\n",
       "      <td>object</td>\n",
       "    </tr>\n",
       "    <tr>\n",
       "      <th>winddir3pm</th>\n",
       "      <td>3778</td>\n",
       "      <td>0.026570</td>\n",
       "      <td>object</td>\n",
       "    </tr>\n",
       "    <tr>\n",
       "      <th>windspeed9am</th>\n",
       "      <td>1348</td>\n",
       "      <td>0.009480</td>\n",
       "      <td>float64</td>\n",
       "    </tr>\n",
       "    <tr>\n",
       "      <th>windspeed3pm</th>\n",
       "      <td>2630</td>\n",
       "      <td>0.018496</td>\n",
       "      <td>float64</td>\n",
       "    </tr>\n",
       "    <tr>\n",
       "      <th>modelo_vigente</th>\n",
       "      <td>0</td>\n",
       "      <td>0.000000</td>\n",
       "      <td>float64</td>\n",
       "    </tr>\n",
       "  </tbody>\n",
       "</table>\n",
       "</div>"
      ],
      "text/plain": [
       "                  missing  missing_prop          dtypes\n",
       "date                    0      0.000000  datetime64[ns]\n",
       "year                    0      0.000000           int64\n",
       "month                   0      0.000000           int64\n",
       "day                     0      0.000000           int64\n",
       "location                0      0.000000          object\n",
       "temp                  322      0.002265         float64\n",
       "mintemp               637      0.004480         float64\n",
       "maxtemp               322      0.002265         float64\n",
       "temp9am               904      0.006358         float64\n",
       "temp3pm              2726      0.019171         float64\n",
       "sunshine            67816      0.476929         float64\n",
       "rainfall             1406      0.009888         float64\n",
       "evaporation         60843      0.427890         float64\n",
       "amountofrain            0      0.000000         float64\n",
       "raintoday            1406      0.009888          object\n",
       "raintomorrow            0      0.000000          object\n",
       "humidity             3610      0.025388         float64\n",
       "humidity9am          1774      0.012476         float64\n",
       "humidity3pm          3610      0.025388         float64\n",
       "pressure9am         14014      0.098556         float64\n",
       "pressure3pm         13981      0.098324         float64\n",
       "cloud9am            53657      0.377353         float64\n",
       "cloud3pm            57094      0.401525         float64\n",
       "precipitation3pm        0      0.000000           int64\n",
       "precipitation9am        0      0.000000         float64\n",
       "windgustdir          9330      0.065615          object\n",
       "windgustspeed        9270      0.065193         float64\n",
       "winddir9am          10013      0.070418          object\n",
       "winddir3pm           3778      0.026570          object\n",
       "windspeed9am         1348      0.009480         float64\n",
       "windspeed3pm         2630      0.018496         float64\n",
       "modelo_vigente          0      0.000000         float64"
      ]
     },
     "execution_count": 25,
     "metadata": {},
     "output_type": "execute_result"
    }
   ],
   "source": [
    "missing = pd.Series(weather.isna().sum())\n",
    "missing_prop = pd.Series(weather.isna().sum() / weather.shape[0])\n",
    "pd.DataFrame({'missing': missing, 'missing_prop': missing_prop, 'dtypes': weather.dtypes})"
   ]
  },
  {
   "cell_type": "markdown",
   "metadata": {},
   "source": [
    "**Insights**\n",
    "- Great quantity of missing values in cloud9am, cloud3pm, sunshine and evaporation."
   ]
  },
  {
   "cell_type": "code",
   "execution_count": 26,
   "metadata": {},
   "outputs": [],
   "source": [
    "weather[\"raintomorrow\"] = np.where(weather[\"raintomorrow\"].str.contains(\"Yes\"), 1, 0)\n",
    "weather[\"raintoday\"] = np.where(weather[\"raintoday\"].str.contains(\"Yes\"), 1, 0)"
   ]
  },
  {
   "cell_type": "markdown",
   "metadata": {},
   "source": [
    "## Data Handling"
   ]
  },
  {
   "cell_type": "markdown",
   "metadata": {},
   "source": [
    "* **Sunshine and wind direction columns**"
   ]
  },
  {
   "cell_type": "markdown",
   "metadata": {},
   "source": [
    "These columns have a similar behavior when thinking about consecutive days. So, the missing values of this columns was filled with the previous valid day value in the columns"
   ]
  },
  {
   "cell_type": "code",
   "execution_count": 27,
   "metadata": {},
   "outputs": [],
   "source": [
    "weather[['sunshine','windgustdir','winddir9am','winddir3pm']] = weather[['sunshine','windgustdir','winddir9am','winddir3pm']].fillna(method='ffill')\n",
    "weather[['sunshine','windgustdir','winddir9am','winddir3pm']] = weather[['sunshine','windgustdir','winddir9am','winddir3pm']].fillna(method='bfill')"
   ]
  },
  {
   "cell_type": "markdown",
   "metadata": {},
   "source": [
    "* **Temperature columns**"
   ]
  },
  {
   "cell_type": "markdown",
   "metadata": {},
   "source": [
    "A strange situation was observed in **temp** column:"
   ]
  },
  {
   "cell_type": "code",
   "execution_count": 28,
   "metadata": {},
   "outputs": [
    {
     "data": {
      "text/html": [
       "<div>\n",
       "<style scoped>\n",
       "    .dataframe tbody tr th:only-of-type {\n",
       "        vertical-align: middle;\n",
       "    }\n",
       "\n",
       "    .dataframe tbody tr th {\n",
       "        vertical-align: top;\n",
       "    }\n",
       "\n",
       "    .dataframe thead th {\n",
       "        text-align: right;\n",
       "    }\n",
       "</style>\n",
       "<table border=\"1\" class=\"dataframe\">\n",
       "  <thead>\n",
       "    <tr style=\"text-align: right;\">\n",
       "      <th></th>\n",
       "      <th>temp</th>\n",
       "      <th>mintemp</th>\n",
       "      <th>maxtemp</th>\n",
       "      <th>temp9am</th>\n",
       "      <th>temp3pm</th>\n",
       "    </tr>\n",
       "  </thead>\n",
       "  <tbody>\n",
       "    <tr>\n",
       "      <th>0</th>\n",
       "      <td>29.48</td>\n",
       "      <td>13.4</td>\n",
       "      <td>22.9</td>\n",
       "      <td>16.9</td>\n",
       "      <td>21.8</td>\n",
       "    </tr>\n",
       "    <tr>\n",
       "      <th>1</th>\n",
       "      <td>32.12</td>\n",
       "      <td>7.4</td>\n",
       "      <td>25.1</td>\n",
       "      <td>17.2</td>\n",
       "      <td>24.3</td>\n",
       "    </tr>\n",
       "    <tr>\n",
       "      <th>2</th>\n",
       "      <td>32.84</td>\n",
       "      <td>12.9</td>\n",
       "      <td>25.7</td>\n",
       "      <td>21.0</td>\n",
       "      <td>23.2</td>\n",
       "    </tr>\n",
       "    <tr>\n",
       "      <th>3</th>\n",
       "      <td>35.60</td>\n",
       "      <td>9.2</td>\n",
       "      <td>28.0</td>\n",
       "      <td>18.1</td>\n",
       "      <td>26.5</td>\n",
       "    </tr>\n",
       "    <tr>\n",
       "      <th>4</th>\n",
       "      <td>40.76</td>\n",
       "      <td>17.5</td>\n",
       "      <td>32.3</td>\n",
       "      <td>17.8</td>\n",
       "      <td>29.7</td>\n",
       "    </tr>\n",
       "  </tbody>\n",
       "</table>\n",
       "</div>"
      ],
      "text/plain": [
       "    temp  mintemp  maxtemp  temp9am  temp3pm\n",
       "0  29.48     13.4     22.9     16.9     21.8\n",
       "1  32.12      7.4     25.1     17.2     24.3\n",
       "2  32.84     12.9     25.7     21.0     23.2\n",
       "3  35.60      9.2     28.0     18.1     26.5\n",
       "4  40.76     17.5     32.3     17.8     29.7"
      ]
     },
     "execution_count": 28,
     "metadata": {},
     "output_type": "execute_result"
    }
   ],
   "source": [
    "weather.loc[:,['temp','mintemp','maxtemp','temp9am','temp3pm']].head()"
   ]
  },
  {
   "cell_type": "markdown",
   "metadata": {},
   "source": [
    "Logically their values must be within a range between **mintemp** and **maxtemp**. The same is true for both **temp9am** and **temp3pm** columns. Below I checked how many rows met this definition:"
   ]
  },
  {
   "cell_type": "code",
   "execution_count": 29,
   "metadata": {},
   "outputs": [
    {
     "name": "stdout",
     "output_type": "stream",
     "text": [
      " Absolute: 422\n",
      " Proportion: 0.0029677972895993474\n"
     ]
    }
   ],
   "source": [
    "#How many temp rows are trustworthy\n",
    "print(f\" Absolute: {weather.loc[(weather['temp'] >= weather['mintemp']) & (weather['temp'] <= weather['maxtemp']),:].shape[0]}\\n \\\n",
    "Proportion: {weather.loc[(weather['temp'] >= weather['mintemp']) & (weather['temp'] <= weather['maxtemp']),:].shape[0] / weather.shape[0]}\")"
   ]
  },
  {
   "cell_type": "code",
   "execution_count": 30,
   "metadata": {},
   "outputs": [
    {
     "name": "stdout",
     "output_type": "stream",
     "text": [
      " Absolute: 140764\n",
      " Proportion: 0.9899502788463567\n"
     ]
    }
   ],
   "source": [
    "#How many temp9am rows are trustworthy\n",
    "print(f\" Absolute: {weather.loc[(weather['temp9am'] >= weather['mintemp']) & (weather['temp9am'] <= weather['maxtemp']),:].shape[0]}\\n \\\n",
    "Proportion: {weather.loc[(weather['temp9am'] >= weather['mintemp']) & (weather['temp9am'] <= weather['maxtemp']),:].shape[0] / weather.shape[0]}\")"
   ]
  },
  {
   "cell_type": "code",
   "execution_count": 31,
   "metadata": {},
   "outputs": [
    {
     "name": "stdout",
     "output_type": "stream",
     "text": [
      " Absolute: 137776\n",
      " Proportion: 0.9689365861891935\n"
     ]
    }
   ],
   "source": [
    "#How many temp3pm rows are trustworthy\n",
    "print(f\" Absolute: {weather.loc[(weather['temp3pm'] >= weather['mintemp']) & (weather['temp3pm'] <= weather['maxtemp']),:].shape[0]}\\n \\\n",
    "Proportion: {weather.loc[(weather['temp3pm'] >= weather['mintemp']) & (weather['temp3pm'] <= weather['maxtemp']),:].shape[0] / weather.shape[0]}\")"
   ]
  },
  {
   "cell_type": "markdown",
   "metadata": {},
   "source": [
    "A very low amount of rows in **temp** column was consistent. So, this column was dropped."
   ]
  },
  {
   "cell_type": "code",
   "execution_count": 32,
   "metadata": {},
   "outputs": [],
   "source": [
    "weather.drop('temp', axis=1, inplace=True)"
   ]
  },
  {
   "cell_type": "markdown",
   "metadata": {},
   "source": [
    "Visualizing **maxtemp** and **mintemp** missing values"
   ]
  },
  {
   "cell_type": "code",
   "execution_count": 33,
   "metadata": {},
   "outputs": [
    {
     "name": "stdout",
     "output_type": "stream",
     "text": [
      "Missing values mintemp: 637\n",
      "Missing values maxtemp: 322\n"
     ]
    }
   ],
   "source": [
    "print(f\"Missing values mintemp: {weather['mintemp'].isna().sum()}\\nMissing values maxtemp: {weather['maxtemp'].isna().sum()}\")"
   ]
  },
  {
   "cell_type": "markdown",
   "metadata": {},
   "source": [
    "Funneling the variables (Canberra as example visualization)"
   ]
  },
  {
   "cell_type": "code",
   "execution_count": 34,
   "metadata": {},
   "outputs": [
    {
     "data": {
      "image/png": "[encoded data removed]",
      "text/plain": [
       "<Figure size 1080x1080 with 6 Axes>"
      ]
     },
     "metadata": {
      "needs_background": "light"
     },
     "output_type": "display_data"
    }
   ],
   "source": [
    "fig, axes = plt.subplots(3,2, figsize=(15,15))\n",
    "sns.boxplot('year','mintemp', data=weather.loc[weather['location'] == 'Canberra',:], ax=axes[0,0])\n",
    "sns.boxplot('year','mintemp', data=weather.loc[weather['location'] == 'Canberra',:], ax=axes[0,1])\n",
    "sns.swarmplot('year','mintemp', data=weather.loc[weather['location'] == 'Canberra',:], ax=axes[0,1], color=\"red\")\n",
    "\n",
    "sns.boxplot('month','mintemp', data=weather.loc[weather['location'] == 'Canberra',:], ax=axes[1,0])\n",
    "sns.boxplot('month','mintemp', data=weather.loc[weather['location'] == 'Canberra',:], ax=axes[1,1])\n",
    "sns.swarmplot('month','mintemp', data=weather.loc[weather['location'] == 'Canberra',:], ax=axes[1,1], color=\"red\")\n",
    "\n",
    "sns.boxplot('month','mintemp', data=weather.loc[(weather['location'] == 'Canberra') & (weather['year'] == 2014),:], ax=axes[2,0])\n",
    "sns.boxplot('month','mintemp', data=weather.loc[(weather['location'] == 'Canberra') & (weather['year'] == 2014),:], ax=axes[2,1])\n",
    "sns.swarmplot('month','mintemp', data=weather.loc[(weather['location'] == 'Canberra') & (weather['year'] == 2014),:], ax=axes[2,1], color=\"red\");"
   ]
  },
  {
   "cell_type": "markdown",
   "metadata": {},
   "source": [
    "The same behavior is seen in other numerical columns that are season dependent (all temperature, rainfall, evaporation, amountofrain, humidities, preasures, precipitations and windspeeds)."
   ]
  },
  {
   "cell_type": "markdown",
   "metadata": {},
   "source": [
    "About temperature values, filling these missing values with median using year, month and location as references:"
   ]
  },
  {
   "cell_type": "code",
   "execution_count": 35,
   "metadata": {},
   "outputs": [
    {
     "data": {
      "text/html": [
       "<div>\n",
       "<style scoped>\n",
       "    .dataframe tbody tr th:only-of-type {\n",
       "        vertical-align: middle;\n",
       "    }\n",
       "\n",
       "    .dataframe tbody tr th {\n",
       "        vertical-align: top;\n",
       "    }\n",
       "\n",
       "    .dataframe thead th {\n",
       "        text-align: right;\n",
       "    }\n",
       "</style>\n",
       "<table border=\"1\" class=\"dataframe\">\n",
       "  <thead>\n",
       "    <tr style=\"text-align: right;\">\n",
       "      <th></th>\n",
       "      <th></th>\n",
       "      <th></th>\n",
       "      <th>mintemp</th>\n",
       "      <th>maxtemp</th>\n",
       "      <th>temp9am</th>\n",
       "      <th>temp3pm</th>\n",
       "    </tr>\n",
       "    <tr>\n",
       "      <th>year</th>\n",
       "      <th>month</th>\n",
       "      <th>location</th>\n",
       "      <th></th>\n",
       "      <th></th>\n",
       "      <th></th>\n",
       "      <th></th>\n",
       "    </tr>\n",
       "  </thead>\n",
       "  <tbody>\n",
       "    <tr>\n",
       "      <th rowspan=\"2\" valign=\"top\">2007</th>\n",
       "      <th>11</th>\n",
       "      <th>Canberra</th>\n",
       "      <td>12.4</td>\n",
       "      <td>24.75</td>\n",
       "      <td>16.9</td>\n",
       "      <td>23.8</td>\n",
       "    </tr>\n",
       "    <tr>\n",
       "      <th>12</th>\n",
       "      <th>Canberra</th>\n",
       "      <td>13.8</td>\n",
       "      <td>24.80</td>\n",
       "      <td>17.4</td>\n",
       "      <td>22.5</td>\n",
       "    </tr>\n",
       "    <tr>\n",
       "      <th rowspan=\"3\" valign=\"top\">2008</th>\n",
       "      <th>1</th>\n",
       "      <th>Canberra</th>\n",
       "      <td>15.4</td>\n",
       "      <td>29.90</td>\n",
       "      <td>19.3</td>\n",
       "      <td>27.9</td>\n",
       "    </tr>\n",
       "    <tr>\n",
       "      <th rowspan=\"2\" valign=\"top\">2</th>\n",
       "      <th>Canberra</th>\n",
       "      <td>12.4</td>\n",
       "      <td>24.80</td>\n",
       "      <td>16.3</td>\n",
       "      <td>24.0</td>\n",
       "    </tr>\n",
       "    <tr>\n",
       "      <th>Sydney</th>\n",
       "      <td>18.9</td>\n",
       "      <td>24.80</td>\n",
       "      <td>21.3</td>\n",
       "      <td>23.5</td>\n",
       "    </tr>\n",
       "  </tbody>\n",
       "</table>\n",
       "</div>"
      ],
      "text/plain": [
       "                     mintemp  maxtemp  temp9am  temp3pm\n",
       "year month location                                    \n",
       "2007 11    Canberra     12.4    24.75     16.9     23.8\n",
       "     12    Canberra     13.8    24.80     17.4     22.5\n",
       "2008 1     Canberra     15.4    29.90     19.3     27.9\n",
       "     2     Canberra     12.4    24.80     16.3     24.0\n",
       "           Sydney       18.9    24.80     21.3     23.5"
      ]
     },
     "execution_count": 35,
     "metadata": {},
     "output_type": "execute_result"
    }
   ],
   "source": [
    "temp_medians = weather[['year','month','location','mintemp','maxtemp','temp9am','temp3pm']].groupby(['year','month','location']).median()\n",
    "temp_medians.head()"
   ]
  },
  {
   "cell_type": "code",
   "execution_count": 36,
   "metadata": {},
   "outputs": [],
   "source": [
    "for key, data in weather.iterrows():\n",
    "    if np.isnan(data['mintemp']):\n",
    "        weather.loc[key,'mintemp'] = temp_medians.loc[(data['year'],data['month'],data['location']),'mintemp']\n",
    "    if np.isnan(data['maxtemp']):\n",
    "        weather.loc[key,'maxtemp'] = temp_medians.loc[(data['year'],data['month'],data['location']),'maxtemp']"
   ]
  },
  {
   "cell_type": "markdown",
   "metadata": {},
   "source": [
    "**Missing values checking (after substitution)**"
   ]
  },
  {
   "cell_type": "code",
   "execution_count": 37,
   "metadata": {},
   "outputs": [
    {
     "name": "stdout",
     "output_type": "stream",
     "text": [
      "Missing values mintemp: 1\n",
      "Missing values maxtemp: 1\n"
     ]
    }
   ],
   "source": [
    "print(f\"Missing values mintemp: {weather['mintemp'].isna().sum()}\\nMissing values maxtemp: {weather['maxtemp'].isna().sum()}\")"
   ]
  },
  {
   "cell_type": "code",
   "execution_count": 38,
   "metadata": {},
   "outputs": [
    {
     "data": {
      "text/html": [
       "<div>\n",
       "<style scoped>\n",
       "    .dataframe tbody tr th:only-of-type {\n",
       "        vertical-align: middle;\n",
       "    }\n",
       "\n",
       "    .dataframe tbody tr th {\n",
       "        vertical-align: top;\n",
       "    }\n",
       "\n",
       "    .dataframe thead th {\n",
       "        text-align: right;\n",
       "    }\n",
       "</style>\n",
       "<table border=\"1\" class=\"dataframe\">\n",
       "  <thead>\n",
       "    <tr style=\"text-align: right;\">\n",
       "      <th></th>\n",
       "      <th>date</th>\n",
       "      <th>year</th>\n",
       "      <th>month</th>\n",
       "      <th>day</th>\n",
       "      <th>location</th>\n",
       "      <th>mintemp</th>\n",
       "      <th>maxtemp</th>\n",
       "      <th>temp9am</th>\n",
       "      <th>temp3pm</th>\n",
       "      <th>sunshine</th>\n",
       "      <th>...</th>\n",
       "      <th>cloud3pm</th>\n",
       "      <th>precipitation3pm</th>\n",
       "      <th>precipitation9am</th>\n",
       "      <th>windgustdir</th>\n",
       "      <th>windgustspeed</th>\n",
       "      <th>winddir9am</th>\n",
       "      <th>winddir3pm</th>\n",
       "      <th>windspeed9am</th>\n",
       "      <th>windspeed3pm</th>\n",
       "      <th>modelo_vigente</th>\n",
       "    </tr>\n",
       "  </thead>\n",
       "  <tbody>\n",
       "    <tr>\n",
       "      <th>67758</th>\n",
       "      <td>2016-04-30</td>\n",
       "      <td>2016</td>\n",
       "      <td>4</td>\n",
       "      <td>30</td>\n",
       "      <td>Melbourne</td>\n",
       "      <td>NaN</td>\n",
       "      <td>NaN</td>\n",
       "      <td>NaN</td>\n",
       "      <td>NaN</td>\n",
       "      <td>8.4</td>\n",
       "      <td>...</td>\n",
       "      <td>NaN</td>\n",
       "      <td>6</td>\n",
       "      <td>7.481963</td>\n",
       "      <td>N</td>\n",
       "      <td>76.0</td>\n",
       "      <td>N</td>\n",
       "      <td>N</td>\n",
       "      <td>31.0</td>\n",
       "      <td>35.0</td>\n",
       "      <td>0.473256</td>\n",
       "    </tr>\n",
       "  </tbody>\n",
       "</table>\n",
       "<p>1 rows × 31 columns</p>\n",
       "</div>"
      ],
      "text/plain": [
       "            date  year  month  day   location  mintemp  maxtemp  temp9am  \\\n",
       "67758 2016-04-30  2016      4   30  Melbourne      NaN      NaN      NaN   \n",
       "\n",
       "       temp3pm  sunshine  ...  cloud3pm  precipitation3pm  precipitation9am  \\\n",
       "67758      NaN       8.4  ...       NaN                 6          7.481963   \n",
       "\n",
       "       windgustdir windgustspeed  winddir9am  winddir3pm  windspeed9am  \\\n",
       "67758            N          76.0           N           N          31.0   \n",
       "\n",
       "       windspeed3pm  modelo_vigente  \n",
       "67758          35.0        0.473256  \n",
       "\n",
       "[1 rows x 31 columns]"
      ]
     },
     "execution_count": 38,
     "metadata": {},
     "output_type": "execute_result"
    }
   ],
   "source": [
    "weather.loc[weather['mintemp'].isna(),:]"
   ]
  },
  {
   "cell_type": "code",
   "execution_count": 39,
   "metadata": {},
   "outputs": [],
   "source": [
    "weather.dropna(axis=0, subset=['mintemp'], inplace=True)"
   ]
  },
  {
   "cell_type": "markdown",
   "metadata": {},
   "source": [
    "Verifying the non consistent rows for **temp9am** and **temp3pm**"
   ]
  },
  {
   "cell_type": "code",
   "execution_count": 40,
   "metadata": {},
   "outputs": [
    {
     "name": "stdout",
     "output_type": "stream",
     "text": [
      "Missing values temp9am: 903\n",
      "Missing values temp3pm: 2725\n"
     ]
    }
   ],
   "source": [
    "print(f\"Missing values temp9am: {weather['temp9am'].isna().sum()}\\nMissing values temp3pm: {weather['temp3pm'].isna().sum()}\")"
   ]
  },
  {
   "cell_type": "markdown",
   "metadata": {},
   "source": [
    "The same logic used in **mintemp** and **maxtemp** to fill the missing values with median values was used below, but taking care with **mintemp** and **maxtemp** as limits:"
   ]
  },
  {
   "cell_type": "code",
   "execution_count": 41,
   "metadata": {},
   "outputs": [],
   "source": [
    "for key, data in weather.iterrows():\n",
    "    if np.isnan(data['temp9am']):\n",
    "        md = temp_medians.loc[(data['year'],data['month'],data['location']),'temp9am']\n",
    "        if (md >= data['mintemp']) & (md <= data['maxtemp']):\n",
    "            weather.loc[key,'temp9am'] = md\n",
    "    if np.isnan(data['temp3pm']):\n",
    "        md = temp_medians.loc[(data['year'],data['month'],data['location']),'temp3pm']\n",
    "        if (md >= data['mintemp']) & (md <= data['maxtemp']):\n",
    "            weather.loc[key,'temp3pm'] = md"
   ]
  },
  {
   "cell_type": "code",
   "execution_count": 42,
   "metadata": {
    "scrolled": true
   },
   "outputs": [
    {
     "name": "stdout",
     "output_type": "stream",
     "text": [
      "Missing values temp9am: 168\n",
      "Missing values temp3pm: 2257\n"
     ]
    }
   ],
   "source": [
    "print(f\"Missing values temp9am: {weather['temp9am'].isna().sum()}\\nMissing values temp3pm: {weather['temp3pm'].isna().sum()}\")"
   ]
  },
  {
   "cell_type": "markdown",
   "metadata": {},
   "source": [
    "This idea of replacement was not enough to all missing values. So I went some steps backwards with the filter:\n"
   ]
  },
  {
   "cell_type": "code",
   "execution_count": 43,
   "metadata": {},
   "outputs": [
    {
     "data": {
      "text/html": [
       "<div>\n",
       "<style scoped>\n",
       "    .dataframe tbody tr th:only-of-type {\n",
       "        vertical-align: middle;\n",
       "    }\n",
       "\n",
       "    .dataframe tbody tr th {\n",
       "        vertical-align: top;\n",
       "    }\n",
       "\n",
       "    .dataframe thead th {\n",
       "        text-align: right;\n",
       "    }\n",
       "</style>\n",
       "<table border=\"1\" class=\"dataframe\">\n",
       "  <thead>\n",
       "    <tr style=\"text-align: right;\">\n",
       "      <th></th>\n",
       "      <th></th>\n",
       "      <th>temp9am</th>\n",
       "      <th>temp3pm</th>\n",
       "    </tr>\n",
       "    <tr>\n",
       "      <th>month</th>\n",
       "      <th>location</th>\n",
       "      <th></th>\n",
       "      <th></th>\n",
       "    </tr>\n",
       "  </thead>\n",
       "  <tbody>\n",
       "    <tr>\n",
       "      <th rowspan=\"5\" valign=\"top\">1</th>\n",
       "      <th>Adelaide</th>\n",
       "      <td>21.70</td>\n",
       "      <td>28.90</td>\n",
       "    </tr>\n",
       "    <tr>\n",
       "      <th>Albany</th>\n",
       "      <td>20.05</td>\n",
       "      <td>21.10</td>\n",
       "    </tr>\n",
       "    <tr>\n",
       "      <th>Albury</th>\n",
       "      <td>23.00</td>\n",
       "      <td>31.20</td>\n",
       "    </tr>\n",
       "    <tr>\n",
       "      <th>AliceSprings</th>\n",
       "      <td>29.65</td>\n",
       "      <td>35.35</td>\n",
       "    </tr>\n",
       "    <tr>\n",
       "      <th>BadgerysCreek</th>\n",
       "      <td>22.30</td>\n",
       "      <td>28.20</td>\n",
       "    </tr>\n",
       "  </tbody>\n",
       "</table>\n",
       "</div>"
      ],
      "text/plain": [
       "                     temp9am  temp3pm\n",
       "month location                       \n",
       "1     Adelaide         21.70    28.90\n",
       "      Albany           20.05    21.10\n",
       "      Albury           23.00    31.20\n",
       "      AliceSprings     29.65    35.35\n",
       "      BadgerysCreek    22.30    28.20"
      ]
     },
     "execution_count": 43,
     "metadata": {},
     "output_type": "execute_result"
    }
   ],
   "source": [
    "temp_means2 = weather[['month','location','temp9am','temp3pm']].groupby(['month','location']).median()\n",
    "temp_means2.head()"
   ]
  },
  {
   "cell_type": "code",
   "execution_count": 44,
   "metadata": {},
   "outputs": [],
   "source": [
    "#Removing year from filter\n",
    "for key, data in weather.iterrows():\n",
    "    if np.isnan(data['temp9am']):\n",
    "        md = temp_means2.loc[(data['month'],data['location']),'temp9am']\n",
    "        if (md >= data['mintemp']) & (md <= data['maxtemp']):\n",
    "            weather.loc[key,'temp9am'] = md\n",
    "    if np.isnan(data['temp3pm']):\n",
    "        md = temp_means2.loc[(data['month'],data['location']),'temp3pm']\n",
    "        if (md >= data['mintemp']) & (md <= data['maxtemp']):\n",
    "            weather.loc[key,'temp3pm'] = md"
   ]
  },
  {
   "cell_type": "code",
   "execution_count": 45,
   "metadata": {},
   "outputs": [
    {
     "name": "stdout",
     "output_type": "stream",
     "text": [
      "Missing values temp9am: 130\n",
      "Missing values temp3pm: 752\n"
     ]
    }
   ],
   "source": [
    "print(f\"Missing values temp9am: {weather['temp9am'].isna().sum()}\\nMissing values temp3pm: {weather['temp3pm'].isna().sum()}\")"
   ]
  },
  {
   "cell_type": "code",
   "execution_count": 46,
   "metadata": {},
   "outputs": [
    {
     "data": {
      "text/html": [
       "<div>\n",
       "<style scoped>\n",
       "    .dataframe tbody tr th:only-of-type {\n",
       "        vertical-align: middle;\n",
       "    }\n",
       "\n",
       "    .dataframe tbody tr th {\n",
       "        vertical-align: top;\n",
       "    }\n",
       "\n",
       "    .dataframe thead th {\n",
       "        text-align: right;\n",
       "    }\n",
       "</style>\n",
       "<table border=\"1\" class=\"dataframe\">\n",
       "  <thead>\n",
       "    <tr style=\"text-align: right;\">\n",
       "      <th></th>\n",
       "      <th>temp9am</th>\n",
       "      <th>temp3pm</th>\n",
       "    </tr>\n",
       "    <tr>\n",
       "      <th>location</th>\n",
       "      <th></th>\n",
       "      <th></th>\n",
       "    </tr>\n",
       "  </thead>\n",
       "  <tbody>\n",
       "    <tr>\n",
       "      <th>Adelaide</th>\n",
       "      <td>16.2</td>\n",
       "      <td>20.5</td>\n",
       "    </tr>\n",
       "    <tr>\n",
       "      <th>Albany</th>\n",
       "      <td>16.4</td>\n",
       "      <td>18.5</td>\n",
       "    </tr>\n",
       "    <tr>\n",
       "      <th>Albury</th>\n",
       "      <td>14.1</td>\n",
       "      <td>20.6</td>\n",
       "    </tr>\n",
       "    <tr>\n",
       "      <th>AliceSprings</th>\n",
       "      <td>21.9</td>\n",
       "      <td>28.5</td>\n",
       "    </tr>\n",
       "    <tr>\n",
       "      <th>BadgerysCreek</th>\n",
       "      <td>16.9</td>\n",
       "      <td>21.7</td>\n",
       "    </tr>\n",
       "  </tbody>\n",
       "</table>\n",
       "</div>"
      ],
      "text/plain": [
       "               temp9am  temp3pm\n",
       "location                       \n",
       "Adelaide          16.2     20.5\n",
       "Albany            16.4     18.5\n",
       "Albury            14.1     20.6\n",
       "AliceSprings      21.9     28.5\n",
       "BadgerysCreek     16.9     21.7"
      ]
     },
     "execution_count": 46,
     "metadata": {},
     "output_type": "execute_result"
    }
   ],
   "source": [
    "temp_means3 = weather[['location','temp9am','temp3pm']].groupby(['location']).median()\n",
    "temp_means3.head()"
   ]
  },
  {
   "cell_type": "code",
   "execution_count": 47,
   "metadata": {},
   "outputs": [],
   "source": [
    "#Removing year and month from filter:\n",
    "for key, data in weather.iterrows():\n",
    "    if np.isnan(data['temp9am']):\n",
    "        md = temp_means3.loc[data['location'],'temp9am']\n",
    "        if (md >= data['mintemp']) & (md <= data['maxtemp']):\n",
    "            weather.loc[key,'temp9am'] = md\n",
    "    if np.isnan(data['temp3pm']):\n",
    "        md = temp_means3.loc[data['location'],'temp3pm']\n",
    "        if (md >= data['mintemp']) & (md <= data['maxtemp']):\n",
    "            weather.loc[key,'temp3pm'] = md"
   ]
  },
  {
   "cell_type": "code",
   "execution_count": 48,
   "metadata": {},
   "outputs": [
    {
     "name": "stdout",
     "output_type": "stream",
     "text": [
      "Missing values temp9am: 95\n",
      "Missing values temp3pm: 467\n"
     ]
    }
   ],
   "source": [
    "print(f\"Missing values temp9am: {weather['temp9am'].isna().sum()}\\nMissing values temp3pm: {weather['temp3pm'].isna().sum()}\")"
   ]
  },
  {
   "cell_type": "markdown",
   "metadata": {},
   "source": [
    "The remaining values not filled aren't a significant amount. So, they were dropped."
   ]
  },
  {
   "cell_type": "code",
   "execution_count": 49,
   "metadata": {},
   "outputs": [],
   "source": [
    "weather.dropna(axis=0, subset=['temp9am','temp3pm'], how='any', inplace=True)"
   ]
  },
  {
   "cell_type": "markdown",
   "metadata": {},
   "source": [
    "### Rainfall and Amountofrain"
   ]
  },
  {
   "cell_type": "code",
   "execution_count": 50,
   "metadata": {},
   "outputs": [
    {
     "data": {
      "image/png": "[encoded data removed]",
      "text/plain": [
       "<Figure size 864x432 with 2 Axes>"
      ]
     },
     "metadata": {
      "needs_background": "light"
     },
     "output_type": "display_data"
    }
   ],
   "source": [
    "fig, (ax1, ax2) = plt.subplots(1,2,figsize=(12,6))\n",
    "sns.distplot(weather['rainfall'].dropna(), color='red', hist=False, ax=ax1)\n",
    "sns.distplot(weather['amountofrain'].dropna(), hist=False, ax=ax2)\n",
    "ax1.set_xlabel(\"\")\n",
    "\n",
    "sns.distplot(weather['rainfall'].dropna(), color='red', hist=False, ax=ax2)\n",
    "sns.distplot(weather['amountofrain'].dropna(), hist=False, ax=ax2)\n",
    "ax2.set_xlim([0,0.02])\n",
    "ax2.set_ylim([0,0.001])\n",
    "ax2.set_title(\"Zoom\")\n",
    "ax2.set_xlabel(\"\");"
   ]
  },
  {
   "cell_type": "code",
   "execution_count": 51,
   "metadata": {},
   "outputs": [
    {
     "data": {
      "text/plain": [
       "rainfall        1377\n",
       "amountofrain       0\n",
       "dtype: int64"
      ]
     },
     "execution_count": 51,
     "metadata": {},
     "output_type": "execute_result"
    }
   ],
   "source": [
    "weather.loc[:,['rainfall','amountofrain']].isna().sum()"
   ]
  },
  {
   "cell_type": "code",
   "execution_count": 52,
   "metadata": {},
   "outputs": [
    {
     "data": {
      "text/html": [
       "<div>\n",
       "<style scoped>\n",
       "    .dataframe tbody tr th:only-of-type {\n",
       "        vertical-align: middle;\n",
       "    }\n",
       "\n",
       "    .dataframe tbody tr th {\n",
       "        vertical-align: top;\n",
       "    }\n",
       "\n",
       "    .dataframe thead th {\n",
       "        text-align: right;\n",
       "    }\n",
       "</style>\n",
       "<table border=\"1\" class=\"dataframe\">\n",
       "  <thead>\n",
       "    <tr style=\"text-align: right;\">\n",
       "      <th></th>\n",
       "      <th>0</th>\n",
       "      <th>1</th>\n",
       "      <th>2</th>\n",
       "      <th>3</th>\n",
       "      <th>4</th>\n",
       "      <th>5</th>\n",
       "      <th>6</th>\n",
       "      <th>7</th>\n",
       "      <th>8</th>\n",
       "      <th>9</th>\n",
       "      <th>10</th>\n",
       "      <th>11</th>\n",
       "      <th>12</th>\n",
       "      <th>13</th>\n",
       "      <th>14</th>\n",
       "      <th>15</th>\n",
       "      <th>16</th>\n",
       "      <th>17</th>\n",
       "      <th>18</th>\n",
       "      <th>19</th>\n",
       "    </tr>\n",
       "  </thead>\n",
       "  <tbody>\n",
       "    <tr>\n",
       "      <th>rainfall</th>\n",
       "      <td>0.6</td>\n",
       "      <td>0.0</td>\n",
       "      <td>0.0</td>\n",
       "      <td>0.0</td>\n",
       "      <td>1.0</td>\n",
       "      <td>0.2</td>\n",
       "      <td>0.0</td>\n",
       "      <td>0.0</td>\n",
       "      <td>0.0</td>\n",
       "      <td>1.4</td>\n",
       "      <td>0.0</td>\n",
       "      <td>2.2</td>\n",
       "      <td>15.6</td>\n",
       "      <td>3.6</td>\n",
       "      <td>NaN</td>\n",
       "      <td>0.0</td>\n",
       "      <td>16.8</td>\n",
       "      <td>10.6</td>\n",
       "      <td>0.0</td>\n",
       "      <td>0.0</td>\n",
       "    </tr>\n",
       "    <tr>\n",
       "      <th>amountofrain</th>\n",
       "      <td>0.0</td>\n",
       "      <td>0.0</td>\n",
       "      <td>0.0</td>\n",
       "      <td>1.0</td>\n",
       "      <td>0.2</td>\n",
       "      <td>0.0</td>\n",
       "      <td>0.0</td>\n",
       "      <td>0.0</td>\n",
       "      <td>1.4</td>\n",
       "      <td>0.0</td>\n",
       "      <td>2.2</td>\n",
       "      <td>15.6</td>\n",
       "      <td>3.6</td>\n",
       "      <td>0.0</td>\n",
       "      <td>0.0</td>\n",
       "      <td>16.8</td>\n",
       "      <td>10.6</td>\n",
       "      <td>0.0</td>\n",
       "      <td>0.0</td>\n",
       "      <td>0.0</td>\n",
       "    </tr>\n",
       "  </tbody>\n",
       "</table>\n",
       "</div>"
      ],
      "text/plain": [
       "               0    1    2    3    4    5    6    7    8    9    10    11  \\\n",
       "rainfall      0.6  0.0  0.0  0.0  1.0  0.2  0.0  0.0  0.0  1.4  0.0   2.2   \n",
       "amountofrain  0.0  0.0  0.0  1.0  0.2  0.0  0.0  0.0  1.4  0.0  2.2  15.6   \n",
       "\n",
       "                12   13   14    15    16    17   18   19  \n",
       "rainfall      15.6  3.6  NaN   0.0  16.8  10.6  0.0  0.0  \n",
       "amountofrain   3.6  0.0  0.0  16.8  10.6   0.0  0.0  0.0  "
      ]
     },
     "execution_count": 52,
     "metadata": {},
     "output_type": "execute_result"
    }
   ],
   "source": [
    "weather.loc[:,['rainfall','amountofrain']].head(20).T"
   ]
  },
  {
   "cell_type": "code",
   "execution_count": 53,
   "metadata": {},
   "outputs": [
    {
     "data": {
      "text/html": [
       "<div>\n",
       "<style scoped>\n",
       "    .dataframe tbody tr th:only-of-type {\n",
       "        vertical-align: middle;\n",
       "    }\n",
       "\n",
       "    .dataframe tbody tr th {\n",
       "        vertical-align: top;\n",
       "    }\n",
       "\n",
       "    .dataframe thead th {\n",
       "        text-align: right;\n",
       "    }\n",
       "</style>\n",
       "<table border=\"1\" class=\"dataframe\">\n",
       "  <thead>\n",
       "    <tr style=\"text-align: right;\">\n",
       "      <th></th>\n",
       "      <th>rainfall</th>\n",
       "      <th>amountofrain</th>\n",
       "    </tr>\n",
       "  </thead>\n",
       "  <tbody>\n",
       "    <tr>\n",
       "      <th>rainfall</th>\n",
       "      <td>1.000000</td>\n",
       "      <td>0.307942</td>\n",
       "    </tr>\n",
       "    <tr>\n",
       "      <th>amountofrain</th>\n",
       "      <td>0.307942</td>\n",
       "      <td>1.000000</td>\n",
       "    </tr>\n",
       "  </tbody>\n",
       "</table>\n",
       "</div>"
      ],
      "text/plain": [
       "              rainfall  amountofrain\n",
       "rainfall      1.000000      0.307942\n",
       "amountofrain  0.307942      1.000000"
      ]
     },
     "execution_count": 53,
     "metadata": {},
     "output_type": "execute_result"
    }
   ],
   "source": [
    "weather[['rainfall','amountofrain']].corr()"
   ]
  },
  {
   "cell_type": "markdown",
   "metadata": {},
   "source": [
    "The conclusion is that rainfall is just a copy of amountofrain shifted one step down and some values was lost. So, the rainfall column was dropped."
   ]
  },
  {
   "cell_type": "code",
   "execution_count": 54,
   "metadata": {},
   "outputs": [],
   "source": [
    "weather.drop('rainfall', axis=1, inplace=True)"
   ]
  },
  {
   "cell_type": "markdown",
   "metadata": {},
   "source": [
    "### Cloud columns"
   ]
  },
  {
   "cell_type": "markdown",
   "metadata": {},
   "source": [
    "There are three values with measure higher than the allowed unit. They were dropped."
   ]
  },
  {
   "cell_type": "code",
   "execution_count": 55,
   "metadata": {},
   "outputs": [
    {
     "data": {
      "text/html": [
       "<div>\n",
       "<style scoped>\n",
       "    .dataframe tbody tr th:only-of-type {\n",
       "        vertical-align: middle;\n",
       "    }\n",
       "\n",
       "    .dataframe tbody tr th {\n",
       "        vertical-align: top;\n",
       "    }\n",
       "\n",
       "    .dataframe thead th {\n",
       "        text-align: right;\n",
       "    }\n",
       "</style>\n",
       "<table border=\"1\" class=\"dataframe\">\n",
       "  <thead>\n",
       "    <tr style=\"text-align: right;\">\n",
       "      <th></th>\n",
       "      <th>date</th>\n",
       "      <th>year</th>\n",
       "      <th>month</th>\n",
       "      <th>day</th>\n",
       "      <th>location</th>\n",
       "      <th>mintemp</th>\n",
       "      <th>maxtemp</th>\n",
       "      <th>temp9am</th>\n",
       "      <th>temp3pm</th>\n",
       "      <th>sunshine</th>\n",
       "      <th>...</th>\n",
       "      <th>cloud3pm</th>\n",
       "      <th>precipitation3pm</th>\n",
       "      <th>precipitation9am</th>\n",
       "      <th>windgustdir</th>\n",
       "      <th>windgustspeed</th>\n",
       "      <th>winddir9am</th>\n",
       "      <th>winddir3pm</th>\n",
       "      <th>windspeed9am</th>\n",
       "      <th>windspeed3pm</th>\n",
       "      <th>modelo_vigente</th>\n",
       "    </tr>\n",
       "  </thead>\n",
       "  <tbody>\n",
       "    <tr>\n",
       "      <th>30097</th>\n",
       "      <td>2009-09-23</td>\n",
       "      <td>2009</td>\n",
       "      <td>9</td>\n",
       "      <td>23</td>\n",
       "      <td>Sydney</td>\n",
       "      <td>17.0</td>\n",
       "      <td>21.8</td>\n",
       "      <td>17.3</td>\n",
       "      <td>20.9</td>\n",
       "      <td>8.0</td>\n",
       "      <td>...</td>\n",
       "      <td>3.0</td>\n",
       "      <td>10</td>\n",
       "      <td>11.419590</td>\n",
       "      <td>W</td>\n",
       "      <td>NaN</td>\n",
       "      <td>W</td>\n",
       "      <td>W</td>\n",
       "      <td>30.0</td>\n",
       "      <td>37.0</td>\n",
       "      <td>0.120108</td>\n",
       "    </tr>\n",
       "    <tr>\n",
       "      <th>45981</th>\n",
       "      <td>2012-05-27</td>\n",
       "      <td>2012</td>\n",
       "      <td>5</td>\n",
       "      <td>27</td>\n",
       "      <td>Canberra</td>\n",
       "      <td>0.6</td>\n",
       "      <td>14.5</td>\n",
       "      <td>4.4</td>\n",
       "      <td>14.2</td>\n",
       "      <td>7.8</td>\n",
       "      <td>...</td>\n",
       "      <td>NaN</td>\n",
       "      <td>10</td>\n",
       "      <td>12.398522</td>\n",
       "      <td>SW</td>\n",
       "      <td>30.0</td>\n",
       "      <td>NNW</td>\n",
       "      <td>SSW</td>\n",
       "      <td>4.0</td>\n",
       "      <td>9.0</td>\n",
       "      <td>0.024968</td>\n",
       "    </tr>\n",
       "    <tr>\n",
       "      <th>104342</th>\n",
       "      <td>2012-11-02</td>\n",
       "      <td>2012</td>\n",
       "      <td>11</td>\n",
       "      <td>2</td>\n",
       "      <td>Woomera</td>\n",
       "      <td>10.6</td>\n",
       "      <td>24.6</td>\n",
       "      <td>14.8</td>\n",
       "      <td>23.7</td>\n",
       "      <td>11.4</td>\n",
       "      <td>...</td>\n",
       "      <td>9.0</td>\n",
       "      <td>11</td>\n",
       "      <td>12.905862</td>\n",
       "      <td>SSE</td>\n",
       "      <td>39.0</td>\n",
       "      <td>SE</td>\n",
       "      <td>ESE</td>\n",
       "      <td>26.0</td>\n",
       "      <td>17.0</td>\n",
       "      <td>0.011199</td>\n",
       "    </tr>\n",
       "  </tbody>\n",
       "</table>\n",
       "<p>3 rows × 30 columns</p>\n",
       "</div>"
      ],
      "text/plain": [
       "             date  year  month  day  location  mintemp  maxtemp  temp9am  \\\n",
       "30097  2009-09-23  2009      9   23    Sydney     17.0     21.8     17.3   \n",
       "45981  2012-05-27  2012      5   27  Canberra      0.6     14.5      4.4   \n",
       "104342 2012-11-02  2012     11    2   Woomera     10.6     24.6     14.8   \n",
       "\n",
       "        temp3pm  sunshine  ...  cloud3pm  precipitation3pm  precipitation9am  \\\n",
       "30097      20.9       8.0  ...       3.0                10         11.419590   \n",
       "45981      14.2       7.8  ...       NaN                10         12.398522   \n",
       "104342     23.7      11.4  ...       9.0                11         12.905862   \n",
       "\n",
       "       windgustdir  windgustspeed  winddir9am  winddir3pm  windspeed9am  \\\n",
       "30097            W            NaN           W           W          30.0   \n",
       "45981           SW           30.0         NNW         SSW           4.0   \n",
       "104342         SSE           39.0          SE         ESE          26.0   \n",
       "\n",
       "        windspeed3pm  modelo_vigente  \n",
       "30097           37.0        0.120108  \n",
       "45981            9.0        0.024968  \n",
       "104342          17.0        0.011199  \n",
       "\n",
       "[3 rows x 30 columns]"
      ]
     },
     "execution_count": 55,
     "metadata": {},
     "output_type": "execute_result"
    }
   ],
   "source": [
    "over_cloud_rows = weather.loc[(weather['cloud9am'] == 9) | (weather['cloud3pm'] == 9),:]\n",
    "over_cloud_rows"
   ]
  },
  {
   "cell_type": "code",
   "execution_count": 56,
   "metadata": {},
   "outputs": [],
   "source": [
    "weather.drop(over_cloud_rows.index, axis=0, inplace=True)"
   ]
  },
  {
   "cell_type": "markdown",
   "metadata": {},
   "source": [
    "With this issue solved, the missing values were filled with the same idea of sunshine values (smiliar behavior in consecutive days)"
   ]
  },
  {
   "cell_type": "code",
   "execution_count": 57,
   "metadata": {},
   "outputs": [],
   "source": [
    "weather[['cloud9am', 'cloud3pm']] = weather[['cloud9am', 'cloud3pm']].fillna(method='ffill')\n",
    "weather[['cloud9am', 'cloud3pm']] = weather[['cloud9am', 'cloud3pm']].fillna(method='bfill')"
   ]
  },
  {
   "cell_type": "markdown",
   "metadata": {},
   "source": [
    "### Humidities, Pressures, Winds, Evaporation"
   ]
  },
  {
   "cell_type": "markdown",
   "metadata": {},
   "source": [
    "These variables follow the same logic as temperature, but without any range limitating the values."
   ]
  },
  {
   "cell_type": "code",
   "execution_count": 58,
   "metadata": {},
   "outputs": [
    {
     "data": {
      "text/html": [
       "<div>\n",
       "<style scoped>\n",
       "    .dataframe tbody tr th:only-of-type {\n",
       "        vertical-align: middle;\n",
       "    }\n",
       "\n",
       "    .dataframe tbody tr th {\n",
       "        vertical-align: top;\n",
       "    }\n",
       "\n",
       "    .dataframe thead th {\n",
       "        text-align: right;\n",
       "    }\n",
       "</style>\n",
       "<table border=\"1\" class=\"dataframe\">\n",
       "  <thead>\n",
       "    <tr style=\"text-align: right;\">\n",
       "      <th></th>\n",
       "      <th></th>\n",
       "      <th></th>\n",
       "      <th>evaporation</th>\n",
       "      <th>humidity</th>\n",
       "      <th>humidity9am</th>\n",
       "      <th>humidity3pm</th>\n",
       "      <th>pressure9am</th>\n",
       "      <th>pressure3pm</th>\n",
       "      <th>windspeed9am</th>\n",
       "      <th>windspeed3pm</th>\n",
       "      <th>windgustspeed</th>\n",
       "    </tr>\n",
       "    <tr>\n",
       "      <th>year</th>\n",
       "      <th>month</th>\n",
       "      <th>location</th>\n",
       "      <th></th>\n",
       "      <th></th>\n",
       "      <th></th>\n",
       "      <th></th>\n",
       "      <th></th>\n",
       "      <th></th>\n",
       "      <th></th>\n",
       "      <th></th>\n",
       "      <th></th>\n",
       "    </tr>\n",
       "  </thead>\n",
       "  <tbody>\n",
       "    <tr>\n",
       "      <th rowspan=\"2\" valign=\"top\">2007</th>\n",
       "      <th>11</th>\n",
       "      <th>Canberra</th>\n",
       "      <td>6.0</td>\n",
       "      <td>43.4</td>\n",
       "      <td>68.5</td>\n",
       "      <td>35.5</td>\n",
       "      <td>1018.75</td>\n",
       "      <td>1014.95</td>\n",
       "      <td>6.0</td>\n",
       "      <td>17.0</td>\n",
       "      <td>41.0</td>\n",
       "    </tr>\n",
       "    <tr>\n",
       "      <th>12</th>\n",
       "      <th>Canberra</th>\n",
       "      <td>6.2</td>\n",
       "      <td>57.2</td>\n",
       "      <td>69.0</td>\n",
       "      <td>48.0</td>\n",
       "      <td>1015.80</td>\n",
       "      <td>1014.10</td>\n",
       "      <td>7.0</td>\n",
       "      <td>15.0</td>\n",
       "      <td>41.0</td>\n",
       "    </tr>\n",
       "    <tr>\n",
       "      <th rowspan=\"3\" valign=\"top\">2008</th>\n",
       "      <th>1</th>\n",
       "      <th>Canberra</th>\n",
       "      <td>7.4</td>\n",
       "      <td>44.0</td>\n",
       "      <td>66.0</td>\n",
       "      <td>36.0</td>\n",
       "      <td>1014.60</td>\n",
       "      <td>1012.30</td>\n",
       "      <td>7.0</td>\n",
       "      <td>15.0</td>\n",
       "      <td>43.0</td>\n",
       "    </tr>\n",
       "    <tr>\n",
       "      <th rowspan=\"2\" valign=\"top\">2</th>\n",
       "      <th>Canberra</th>\n",
       "      <td>5.8</td>\n",
       "      <td>51.2</td>\n",
       "      <td>73.0</td>\n",
       "      <td>41.0</td>\n",
       "      <td>1013.60</td>\n",
       "      <td>1011.40</td>\n",
       "      <td>9.0</td>\n",
       "      <td>15.0</td>\n",
       "      <td>41.0</td>\n",
       "    </tr>\n",
       "    <tr>\n",
       "      <th>Sydney</th>\n",
       "      <td>5.5</td>\n",
       "      <td>76.4</td>\n",
       "      <td>78.0</td>\n",
       "      <td>62.0</td>\n",
       "      <td>1014.10</td>\n",
       "      <td>1011.80</td>\n",
       "      <td>13.0</td>\n",
       "      <td>20.0</td>\n",
       "      <td>NaN</td>\n",
       "    </tr>\n",
       "  </tbody>\n",
       "</table>\n",
       "</div>"
      ],
      "text/plain": [
       "                     evaporation  humidity  humidity9am  humidity3pm  \\\n",
       "year month location                                                    \n",
       "2007 11    Canberra          6.0      43.4         68.5         35.5   \n",
       "     12    Canberra          6.2      57.2         69.0         48.0   \n",
       "2008 1     Canberra          7.4      44.0         66.0         36.0   \n",
       "     2     Canberra          5.8      51.2         73.0         41.0   \n",
       "           Sydney            5.5      76.4         78.0         62.0   \n",
       "\n",
       "                     pressure9am  pressure3pm  windspeed9am  windspeed3pm  \\\n",
       "year month location                                                         \n",
       "2007 11    Canberra      1018.75      1014.95           6.0          17.0   \n",
       "     12    Canberra      1015.80      1014.10           7.0          15.0   \n",
       "2008 1     Canberra      1014.60      1012.30           7.0          15.0   \n",
       "     2     Canberra      1013.60      1011.40           9.0          15.0   \n",
       "           Sydney        1014.10      1011.80          13.0          20.0   \n",
       "\n",
       "                     windgustspeed  \n",
       "year month location                 \n",
       "2007 11    Canberra           41.0  \n",
       "     12    Canberra           41.0  \n",
       "2008 1     Canberra           43.0  \n",
       "     2     Canberra           41.0  \n",
       "           Sydney              NaN  "
      ]
     },
     "execution_count": 58,
     "metadata": {},
     "output_type": "execute_result"
    }
   ],
   "source": [
    "medians_mask = weather[['year','month','location','evaporation', 'humidity','humidity9am','humidity3pm','pressure9am','pressure3pm',\n",
    "                        'windspeed9am','windspeed3pm', 'windgustspeed']]\n",
    "rem_medians = medians_mask.groupby(['year','month','location']).median()\n",
    "rem_medians.head()"
   ]
  },
  {
   "cell_type": "code",
   "execution_count": 59,
   "metadata": {},
   "outputs": [],
   "source": [
    "#Filtering by year, month and location\n",
    "for key, data in weather.iterrows():\n",
    "    if np.isnan(data['humidity']):\n",
    "        md = rem_medians.loc[(data['year'],data['month'],data['location']),'humidity']\n",
    "        weather.loc[key,'humidity'] = md\n",
    "    if np.isnan(data['humidity9am']):\n",
    "        md = rem_medians.loc[(data['year'],data['month'],data['location']),'humidity9am']\n",
    "        weather.loc[key,'humidity9am'] = md\n",
    "    if np.isnan(data['humidity3pm']):\n",
    "        md = rem_medians.loc[(data['year'],data['month'],data['location']),'humidity3pm']\n",
    "        weather.loc[key,'humidity3pm'] = md\n",
    "    if np.isnan(data['pressure9am']):\n",
    "        md = rem_medians.loc[(data['year'],data['month'],data['location']),'pressure9am']\n",
    "        weather.loc[key,'pressure9am'] = md\n",
    "    if np.isnan(data['pressure3pm']):\n",
    "        md = rem_medians.loc[(data['year'],data['month'],data['location']),'pressure3pm']\n",
    "        weather.loc[key,'pressure3pm'] = md\n",
    "    if np.isnan(data['windspeed9am']):\n",
    "        md = rem_medians.loc[(data['year'],data['month'],data['location']),'windspeed9am']\n",
    "        weather.loc[key,'windspeed9am'] = md\n",
    "    if np.isnan(data['windspeed3pm']):\n",
    "        md = rem_medians.loc[(data['year'],data['month'],data['location']),'windspeed3pm']\n",
    "        weather.loc[key,'windspeed3pm'] = md\n",
    "    if np.isnan(data['windgustspeed']):\n",
    "        md = rem_medians.loc[(data['year'],data['month'],data['location']),'windgustspeed']\n",
    "        weather.loc[key,'windgustspeed'] = md\n",
    "    if np.isnan(data['evaporation']):\n",
    "        md = rem_medians.loc[(data['year'],data['month'],data['location']),'evaporation']\n",
    "        weather.loc[key,'evaporation'] = md"
   ]
  },
  {
   "cell_type": "code",
   "execution_count": 60,
   "metadata": {},
   "outputs": [
    {
     "name": "stdout",
     "output_type": "stream",
     "text": [
      "Missing values evaporation: 55927\n",
      "Missing values humidity: 2093\n",
      "Missing values humidity9am: 419\n",
      "Missing values humidity3pm: 2093\n",
      "Missing values pressure9am: 13335\n",
      "Missing values pressure3pm: 13335\n",
      "Missing values windspeed9am: 472\n",
      "Missing values windspeed3pm: 1561\n",
      "Missing values windgustspeed: 7320\n"
     ]
    }
   ],
   "source": [
    "for name in medians_mask.columns[3:]:\n",
    "    print(f\"Missing values {name}: {weather[name].isna().sum()}\")"
   ]
  },
  {
   "cell_type": "code",
   "execution_count": 61,
   "metadata": {},
   "outputs": [
    {
     "data": {
      "text/html": [
       "<div>\n",
       "<style scoped>\n",
       "    .dataframe tbody tr th:only-of-type {\n",
       "        vertical-align: middle;\n",
       "    }\n",
       "\n",
       "    .dataframe tbody tr th {\n",
       "        vertical-align: top;\n",
       "    }\n",
       "\n",
       "    .dataframe thead th {\n",
       "        text-align: right;\n",
       "    }\n",
       "</style>\n",
       "<table border=\"1\" class=\"dataframe\">\n",
       "  <thead>\n",
       "    <tr style=\"text-align: right;\">\n",
       "      <th></th>\n",
       "      <th></th>\n",
       "      <th>year</th>\n",
       "      <th>evaporation</th>\n",
       "      <th>humidity</th>\n",
       "      <th>humidity9am</th>\n",
       "      <th>humidity3pm</th>\n",
       "      <th>pressure9am</th>\n",
       "      <th>pressure3pm</th>\n",
       "      <th>windspeed9am</th>\n",
       "      <th>windspeed3pm</th>\n",
       "      <th>windgustspeed</th>\n",
       "    </tr>\n",
       "    <tr>\n",
       "      <th>month</th>\n",
       "      <th>location</th>\n",
       "      <th></th>\n",
       "      <th></th>\n",
       "      <th></th>\n",
       "      <th></th>\n",
       "      <th></th>\n",
       "      <th></th>\n",
       "      <th></th>\n",
       "      <th></th>\n",
       "      <th></th>\n",
       "      <th></th>\n",
       "    </tr>\n",
       "  </thead>\n",
       "  <tbody>\n",
       "    <tr>\n",
       "      <th rowspan=\"5\" valign=\"top\">1</th>\n",
       "      <th>Adelaide</th>\n",
       "      <td>2013.0</td>\n",
       "      <td>8.6</td>\n",
       "      <td>39.2</td>\n",
       "      <td>48.0</td>\n",
       "      <td>31.0</td>\n",
       "      <td>1013.65</td>\n",
       "      <td>1012.0</td>\n",
       "      <td>9.0</td>\n",
       "      <td>16.0</td>\n",
       "      <td>37.0</td>\n",
       "    </tr>\n",
       "    <tr>\n",
       "      <th>Albany</th>\n",
       "      <td>2013.0</td>\n",
       "      <td>7.4</td>\n",
       "      <td>84.8</td>\n",
       "      <td>69.5</td>\n",
       "      <td>69.0</td>\n",
       "      <td>1015.50</td>\n",
       "      <td>1013.8</td>\n",
       "      <td>15.0</td>\n",
       "      <td>24.0</td>\n",
       "      <td>NaN</td>\n",
       "    </tr>\n",
       "    <tr>\n",
       "      <th>Albury</th>\n",
       "      <td>2013.0</td>\n",
       "      <td>NaN</td>\n",
       "      <td>33.2</td>\n",
       "      <td>51.0</td>\n",
       "      <td>27.0</td>\n",
       "      <td>1012.60</td>\n",
       "      <td>1009.8</td>\n",
       "      <td>9.0</td>\n",
       "      <td>15.0</td>\n",
       "      <td>37.0</td>\n",
       "    </tr>\n",
       "    <tr>\n",
       "      <th>AliceSprings</th>\n",
       "      <td>2013.0</td>\n",
       "      <td>13.0</td>\n",
       "      <td>26.0</td>\n",
       "      <td>32.0</td>\n",
       "      <td>20.0</td>\n",
       "      <td>1008.15</td>\n",
       "      <td>1004.7</td>\n",
       "      <td>17.0</td>\n",
       "      <td>19.0</td>\n",
       "      <td>44.0</td>\n",
       "    </tr>\n",
       "    <tr>\n",
       "      <th>BadgerysCreek</th>\n",
       "      <td>2013.0</td>\n",
       "      <td>NaN</td>\n",
       "      <td>59.6</td>\n",
       "      <td>73.0</td>\n",
       "      <td>49.0</td>\n",
       "      <td>1014.30</td>\n",
       "      <td>1011.9</td>\n",
       "      <td>6.0</td>\n",
       "      <td>15.0</td>\n",
       "      <td>35.0</td>\n",
       "    </tr>\n",
       "  </tbody>\n",
       "</table>\n",
       "</div>"
      ],
      "text/plain": [
       "                       year  evaporation  humidity  humidity9am  humidity3pm  \\\n",
       "month location                                                                 \n",
       "1     Adelaide       2013.0          8.6      39.2         48.0         31.0   \n",
       "      Albany         2013.0          7.4      84.8         69.5         69.0   \n",
       "      Albury         2013.0          NaN      33.2         51.0         27.0   \n",
       "      AliceSprings   2013.0         13.0      26.0         32.0         20.0   \n",
       "      BadgerysCreek  2013.0          NaN      59.6         73.0         49.0   \n",
       "\n",
       "                     pressure9am  pressure3pm  windspeed9am  windspeed3pm  \\\n",
       "month location                                                              \n",
       "1     Adelaide           1013.65       1012.0           9.0          16.0   \n",
       "      Albany             1015.50       1013.8          15.0          24.0   \n",
       "      Albury             1012.60       1009.8           9.0          15.0   \n",
       "      AliceSprings       1008.15       1004.7          17.0          19.0   \n",
       "      BadgerysCreek      1014.30       1011.9           6.0          15.0   \n",
       "\n",
       "                     windgustspeed  \n",
       "month location                      \n",
       "1     Adelaide                37.0  \n",
       "      Albany                   NaN  \n",
       "      Albury                  37.0  \n",
       "      AliceSprings            44.0  \n",
       "      BadgerysCreek           35.0  "
      ]
     },
     "execution_count": 61,
     "metadata": {},
     "output_type": "execute_result"
    }
   ],
   "source": [
    "rem2_medians = medians_mask.groupby(['month','location']).median()\n",
    "rem2_medians.head()"
   ]
  },
  {
   "cell_type": "code",
   "execution_count": 62,
   "metadata": {},
   "outputs": [],
   "source": [
    "#Filtering by month and location\n",
    "for key, data in weather.iterrows():\n",
    "    if np.isnan(data['humidity']):\n",
    "        md = rem2_medians.loc[(data['month'],data['location']),'humidity']\n",
    "        weather.loc[key,'humidity'] = md\n",
    "    if np.isnan(data['humidity9am']):\n",
    "        md = rem2_medians.loc[(data['month'],data['location']),'humidity9am']\n",
    "        weather.loc[key,'humidity9am'] = md\n",
    "    if np.isnan(data['humidity3pm']):\n",
    "        md = rem2_medians.loc[(data['month'],data['location']),'humidity3pm']\n",
    "        weather.loc[key,'humidity3pm'] = md\n",
    "    if np.isnan(data['pressure9am']):\n",
    "        md = rem2_medians.loc[(data['month'],data['location']),'pressure9am']\n",
    "        weather.loc[key,'pressure9am'] = md\n",
    "    if np.isnan(data['pressure3pm']):\n",
    "        md = rem2_medians.loc[(data['month'],data['location']),'pressure3pm']\n",
    "        weather.loc[key,'pressure3pm'] = md\n",
    "    if np.isnan(data['windspeed9am']):\n",
    "        md = rem2_medians.loc[(data['month'],data['location']),'windspeed9am']\n",
    "        weather.loc[key,'windspeed9am'] = md\n",
    "    if np.isnan(data['windspeed3pm']):\n",
    "        md = rem2_medians.loc[(data['month'],data['location']),'windspeed3pm']\n",
    "        weather.loc[key,'windspeed3pm'] = md\n",
    "    if np.isnan(data['windgustspeed']):\n",
    "        md = rem2_medians.loc[(data['month'],data['location']),'windgustspeed']\n",
    "        weather.loc[key,'windgustspeed'] = md\n",
    "    if np.isnan(data['evaporation']):\n",
    "        md = rem2_medians.loc[(data['month'],data['location']),'evaporation']\n",
    "        weather.loc[key,'evaporation'] = md"
   ]
  },
  {
   "cell_type": "code",
   "execution_count": 63,
   "metadata": {},
   "outputs": [
    {
     "name": "stdout",
     "output_type": "stream",
     "text": [
      "Missing values evaporation: 45249\n",
      "Missing values humidity: 0\n",
      "Missing values humidity9am: 0\n",
      "Missing values humidity3pm: 0\n",
      "Missing values pressure9am: 11565\n",
      "Missing values pressure3pm: 11565\n",
      "Missing values windspeed9am: 0\n",
      "Missing values windspeed3pm: 0\n",
      "Missing values windgustspeed: 5711\n"
     ]
    }
   ],
   "source": [
    "for name in medians_mask.columns[3:]:\n",
    "    print(f\"Missing values {name}: {weather[name].isna().sum()}\")"
   ]
  },
  {
   "cell_type": "code",
   "execution_count": 64,
   "metadata": {},
   "outputs": [
    {
     "data": {
      "text/html": [
       "<div>\n",
       "<style scoped>\n",
       "    .dataframe tbody tr th:only-of-type {\n",
       "        vertical-align: middle;\n",
       "    }\n",
       "\n",
       "    .dataframe tbody tr th {\n",
       "        vertical-align: top;\n",
       "    }\n",
       "\n",
       "    .dataframe thead th {\n",
       "        text-align: right;\n",
       "    }\n",
       "</style>\n",
       "<table border=\"1\" class=\"dataframe\">\n",
       "  <thead>\n",
       "    <tr style=\"text-align: right;\">\n",
       "      <th></th>\n",
       "      <th>year</th>\n",
       "      <th>month</th>\n",
       "      <th>evaporation</th>\n",
       "      <th>humidity</th>\n",
       "      <th>humidity9am</th>\n",
       "      <th>humidity3pm</th>\n",
       "      <th>pressure9am</th>\n",
       "      <th>pressure3pm</th>\n",
       "      <th>windspeed9am</th>\n",
       "      <th>windspeed3pm</th>\n",
       "      <th>windgustspeed</th>\n",
       "    </tr>\n",
       "    <tr>\n",
       "      <th>location</th>\n",
       "      <th></th>\n",
       "      <th></th>\n",
       "      <th></th>\n",
       "      <th></th>\n",
       "      <th></th>\n",
       "      <th></th>\n",
       "      <th></th>\n",
       "      <th></th>\n",
       "      <th></th>\n",
       "      <th></th>\n",
       "      <th></th>\n",
       "    </tr>\n",
       "  </thead>\n",
       "  <tbody>\n",
       "    <tr>\n",
       "      <th>Adelaide</th>\n",
       "      <td>2013</td>\n",
       "      <td>7</td>\n",
       "      <td>4.2</td>\n",
       "      <td>54.8</td>\n",
       "      <td>60.0</td>\n",
       "      <td>44.0</td>\n",
       "      <td>1018.7</td>\n",
       "      <td>1016.8</td>\n",
       "      <td>9.0</td>\n",
       "      <td>15.0</td>\n",
       "      <td>35.0</td>\n",
       "    </tr>\n",
       "    <tr>\n",
       "      <th>Albany</th>\n",
       "      <td>2012</td>\n",
       "      <td>6</td>\n",
       "      <td>3.8</td>\n",
       "      <td>81.2</td>\n",
       "      <td>75.0</td>\n",
       "      <td>67.0</td>\n",
       "      <td>1018.5</td>\n",
       "      <td>1016.5</td>\n",
       "      <td>9.0</td>\n",
       "      <td>19.0</td>\n",
       "      <td>NaN</td>\n",
       "    </tr>\n",
       "    <tr>\n",
       "      <th>Albury</th>\n",
       "      <td>2013</td>\n",
       "      <td>6</td>\n",
       "      <td>NaN</td>\n",
       "      <td>57.2</td>\n",
       "      <td>76.0</td>\n",
       "      <td>47.0</td>\n",
       "      <td>1018.4</td>\n",
       "      <td>1015.6</td>\n",
       "      <td>7.0</td>\n",
       "      <td>13.0</td>\n",
       "      <td>31.0</td>\n",
       "    </tr>\n",
       "    <tr>\n",
       "      <th>AliceSprings</th>\n",
       "      <td>2013</td>\n",
       "      <td>6</td>\n",
       "      <td>8.2</td>\n",
       "      <td>24.8</td>\n",
       "      <td>36.0</td>\n",
       "      <td>19.0</td>\n",
       "      <td>1016.7</td>\n",
       "      <td>1012.7</td>\n",
       "      <td>15.0</td>\n",
       "      <td>17.0</td>\n",
       "      <td>39.0</td>\n",
       "    </tr>\n",
       "    <tr>\n",
       "      <th>BadgerysCreek</th>\n",
       "      <td>2013</td>\n",
       "      <td>6</td>\n",
       "      <td>NaN</td>\n",
       "      <td>59.6</td>\n",
       "      <td>77.0</td>\n",
       "      <td>49.0</td>\n",
       "      <td>1018.6</td>\n",
       "      <td>1015.8</td>\n",
       "      <td>7.0</td>\n",
       "      <td>13.0</td>\n",
       "      <td>31.0</td>\n",
       "    </tr>\n",
       "  </tbody>\n",
       "</table>\n",
       "</div>"
      ],
      "text/plain": [
       "               year  month  evaporation  humidity  humidity9am  humidity3pm  \\\n",
       "location                                                                      \n",
       "Adelaide       2013      7          4.2      54.8         60.0         44.0   \n",
       "Albany         2012      6          3.8      81.2         75.0         67.0   \n",
       "Albury         2013      6          NaN      57.2         76.0         47.0   \n",
       "AliceSprings   2013      6          8.2      24.8         36.0         19.0   \n",
       "BadgerysCreek  2013      6          NaN      59.6         77.0         49.0   \n",
       "\n",
       "               pressure9am  pressure3pm  windspeed9am  windspeed3pm  \\\n",
       "location                                                              \n",
       "Adelaide            1018.7       1016.8           9.0          15.0   \n",
       "Albany              1018.5       1016.5           9.0          19.0   \n",
       "Albury              1018.4       1015.6           7.0          13.0   \n",
       "AliceSprings        1016.7       1012.7          15.0          17.0   \n",
       "BadgerysCreek       1018.6       1015.8           7.0          13.0   \n",
       "\n",
       "               windgustspeed  \n",
       "location                      \n",
       "Adelaide                35.0  \n",
       "Albany                   NaN  \n",
       "Albury                  31.0  \n",
       "AliceSprings            39.0  \n",
       "BadgerysCreek           31.0  "
      ]
     },
     "execution_count": 64,
     "metadata": {},
     "output_type": "execute_result"
    }
   ],
   "source": [
    "rem3_medians = medians_mask.groupby(['location']).median()\n",
    "rem3_medians.head()"
   ]
  },
  {
   "cell_type": "code",
   "execution_count": 65,
   "metadata": {},
   "outputs": [],
   "source": [
    "#Filtering by location\n",
    "for key, data in weather.iterrows():\n",
    "    if np.isnan(data['pressure9am']):\n",
    "        md = rem3_medians.loc[(data['location']),'pressure9am']\n",
    "        weather.loc[key,'pressure9am'] = md\n",
    "    if np.isnan(data['pressure3pm']):\n",
    "        md = rem3_medians.loc[(data['location']),'pressure3pm']\n",
    "        weather.loc[key,'pressure3pm'] = md\n",
    "    if np.isnan(data['windgustspeed']):\n",
    "        md = rem3_medians.loc[(data['location']),'windgustspeed']\n",
    "        weather.loc[key,'windgustspeed'] = md\n",
    "    if np.isnan(data['evaporation']):\n",
    "        md = rem3_medians.loc[(data['location']),'evaporation']\n",
    "        weather.loc[key,'evaporation'] = md"
   ]
  },
  {
   "cell_type": "code",
   "execution_count": 66,
   "metadata": {},
   "outputs": [
    {
     "name": "stdout",
     "output_type": "stream",
     "text": [
      "Missing values pressure9am: 11565\n",
      "Missing values pressure3pm: 11565\n",
      "Missing values windgustspeed: 5711\n",
      "Missing values evaporation: 44029\n"
     ]
    }
   ],
   "source": [
    "for name in ['pressure9am', 'pressure3pm', 'windgustspeed', 'evaporation']:\n",
    "    print(f\"Missing values {name}: {weather[name].isna().sum()}\")"
   ]
  },
  {
   "cell_type": "markdown",
   "metadata": {},
   "source": [
    "An iteration using only location as filter was tryied, but just a little quantity os evaporation missing values was replaced. So, the remaining rows were dropped."
   ]
  },
  {
   "cell_type": "code",
   "execution_count": 67,
   "metadata": {},
   "outputs": [],
   "source": [
    "weather.dropna(axis=0, how='any', subset=['pressure9am','pressure3pm','windgustspeed', 'evaporation'], inplace=True)"
   ]
  },
  {
   "cell_type": "markdown",
   "metadata": {},
   "source": [
    "### Raintoday vs Precipiration 9am"
   ]
  },
  {
   "cell_type": "code",
   "execution_count": 69,
   "metadata": {},
   "outputs": [
    {
     "data": {
      "text/html": [
       "<div>\n",
       "<style scoped>\n",
       "    .dataframe tbody tr th:only-of-type {\n",
       "        vertical-align: middle;\n",
       "    }\n",
       "\n",
       "    .dataframe tbody tr th {\n",
       "        vertical-align: top;\n",
       "    }\n",
       "\n",
       "    .dataframe thead th {\n",
       "        text-align: right;\n",
       "    }\n",
       "</style>\n",
       "<table border=\"1\" class=\"dataframe\">\n",
       "  <thead>\n",
       "    <tr style=\"text-align: right;\">\n",
       "      <th></th>\n",
       "      <th>date</th>\n",
       "      <th>precipitation9am</th>\n",
       "      <th>precipitation3pm</th>\n",
       "      <th>raintoday</th>\n",
       "    </tr>\n",
       "  </thead>\n",
       "  <tbody>\n",
       "    <tr>\n",
       "      <th>5939</th>\n",
       "      <td>2009-01-01</td>\n",
       "      <td>15.165784</td>\n",
       "      <td>5</td>\n",
       "      <td>0</td>\n",
       "    </tr>\n",
       "    <tr>\n",
       "      <th>5940</th>\n",
       "      <td>2009-01-02</td>\n",
       "      <td>9.750834</td>\n",
       "      <td>9</td>\n",
       "      <td>0</td>\n",
       "    </tr>\n",
       "    <tr>\n",
       "      <th>5941</th>\n",
       "      <td>2009-01-03</td>\n",
       "      <td>11.954782</td>\n",
       "      <td>11</td>\n",
       "      <td>0</td>\n",
       "    </tr>\n",
       "    <tr>\n",
       "      <th>5942</th>\n",
       "      <td>2009-01-04</td>\n",
       "      <td>5.557986</td>\n",
       "      <td>11</td>\n",
       "      <td>0</td>\n",
       "    </tr>\n",
       "    <tr>\n",
       "      <th>5943</th>\n",
       "      <td>2009-01-05</td>\n",
       "      <td>17.820001</td>\n",
       "      <td>10</td>\n",
       "      <td>0</td>\n",
       "    </tr>\n",
       "  </tbody>\n",
       "</table>\n",
       "</div>"
      ],
      "text/plain": [
       "           date  precipitation9am  precipitation3pm  raintoday\n",
       "5939 2009-01-01         15.165784                 5          0\n",
       "5940 2009-01-02          9.750834                 9          0\n",
       "5941 2009-01-03         11.954782                11          0\n",
       "5942 2009-01-04          5.557986                11          0\n",
       "5943 2009-01-05         17.820001                10          0"
      ]
     },
     "execution_count": 69,
     "metadata": {},
     "output_type": "execute_result"
    }
   ],
   "source": [
    "weather.loc[:,['date','precipitation9am','precipitation3pm','raintoday']].head()"
   ]
  },
  {
   "cell_type": "code",
   "execution_count": 71,
   "metadata": {},
   "outputs": [
    {
     "data": {
      "text/html": [
       "<div>\n",
       "<style scoped>\n",
       "    .dataframe tbody tr th:only-of-type {\n",
       "        vertical-align: middle;\n",
       "    }\n",
       "\n",
       "    .dataframe tbody tr th {\n",
       "        vertical-align: top;\n",
       "    }\n",
       "\n",
       "    .dataframe thead th {\n",
       "        text-align: right;\n",
       "    }\n",
       "</style>\n",
       "<table border=\"1\" class=\"dataframe\">\n",
       "  <thead>\n",
       "    <tr style=\"text-align: right;\">\n",
       "      <th></th>\n",
       "      <th>precipitation9am</th>\n",
       "      <th>precipitation3pm</th>\n",
       "    </tr>\n",
       "  </thead>\n",
       "  <tbody>\n",
       "    <tr>\n",
       "      <th>precipitation9am</th>\n",
       "      <td>1.000000</td>\n",
       "      <td>0.002434</td>\n",
       "    </tr>\n",
       "    <tr>\n",
       "      <th>precipitation3pm</th>\n",
       "      <td>0.002434</td>\n",
       "      <td>1.000000</td>\n",
       "    </tr>\n",
       "  </tbody>\n",
       "</table>\n",
       "</div>"
      ],
      "text/plain": [
       "                  precipitation9am  precipitation3pm\n",
       "precipitation9am          1.000000          0.002434\n",
       "precipitation3pm          0.002434          1.000000"
      ]
     },
     "execution_count": 71,
     "metadata": {},
     "output_type": "execute_result"
    }
   ],
   "source": [
    "weather.loc[:,['precipitation9am','precipitation3pm']].corr()"
   ]
  },
  {
   "cell_type": "code",
   "execution_count": 70,
   "metadata": {},
   "outputs": [
    {
     "data": {
      "image/png": "[encoded data removed]",
      "text/plain": [
       "<Figure size 1080x720 with 2 Axes>"
      ]
     },
     "metadata": {
      "needs_background": "light"
     },
     "output_type": "display_data"
    }
   ],
   "source": [
    "fig, (ax1,ax2) = plt.subplots(1,2, figsize=(15,10))\n",
    "sns.distplot(weather['precipitation9am'], ax=ax1)\n",
    "sns.distplot(weather['precipitation3pm'], ax=ax2);"
   ]
  },
  {
   "cell_type": "markdown",
   "metadata": {},
   "source": [
    "Besides the negative values of **precipitation9am** the data about raintoday says *\"Boolean: 1 if precipitation (mm) in the 24 hours to 9am exceeds 1mm, otherwise 0\"*, but it doesn't make sense. As we can see above both columns seems to be artificially created with a normal distribution generator. They're so much regular, a characteristic not found in nature.\n",
    "It was decided to be dropped."
   ]
  },
  {
   "cell_type": "code",
   "execution_count": 73,
   "metadata": {},
   "outputs": [],
   "source": [
    "weather.drop(['precipitation9am','precipitation3pm'], axis=1, inplace=True)"
   ]
  },
  {
   "cell_type": "markdown",
   "metadata": {},
   "source": [
    "## Correlation Visualization"
   ]
  },
  {
   "cell_type": "markdown",
   "metadata": {},
   "source": [
    "* **Correcting wrong dtypes**"
   ]
  },
  {
   "cell_type": "code",
   "execution_count": 76,
   "metadata": {},
   "outputs": [],
   "source": [
    "weather = weather.astype({'raintoday':'category',\n",
    "                          'raintomorrow': 'category',\n",
    "                          'cloud9am': 'int64',\n",
    "                          'cloud3pm': 'int64',\n",
    "                          'windgustdir':'category',\n",
    "                          'windgustspeed': 'int64',\n",
    "                          'winddir3pm':'category', \n",
    "                          'winddir9am':'category', \n",
    "                          'windspeed9am': 'int64',\n",
    "                          'windspeed3pm': 'int64',\n",
    "                          })"
   ]
  },
  {
   "cell_type": "markdown",
   "metadata": {},
   "source": [
    "Date colum was used initially to generate year, month and day columns and to be a support if need. At this time of the analysis, it can be dropped."
   ]
  },
  {
   "cell_type": "code",
   "execution_count": 78,
   "metadata": {},
   "outputs": [],
   "source": [
    "weather.drop('date', axis=1, inplace=True)"
   ]
  },
  {
   "cell_type": "code",
   "execution_count": 89,
   "metadata": {},
   "outputs": [
    {
     "data": {
      "image/png": "[encoded data removed]",
      "text/plain": [
       "<Figure size 1224x1224 with 2 Axes>"
      ]
     },
     "metadata": {
      "needs_background": "light"
     },
     "output_type": "display_data"
    }
   ],
   "source": [
    "mask = np.zeros_like(weather.corr(), dtype=np.bool)\n",
    "mask[np.triu_indices_from(mask)] = True\n",
    "\n",
    "plt.figure(figsize=(17,17))\n",
    "sns.heatmap(weather.corr(), annot=True, mask = mask);"
   ]
  },
  {
   "cell_type": "code",
   "execution_count": null,
   "metadata": {},
   "outputs": [],
   "source": []
  },
  {
   "cell_type": "markdown",
   "metadata": {},
   "source": [
    "There are big correlations between the temperature variables and this kind of situation can biased our analysis. So, I used a Logistic Regression to evaluate which variable has more conttribution to the prediction:"
   ]
  },
  {
   "cell_type": "code",
   "execution_count": null,
   "metadata": {},
   "outputs": [],
   "source": [
    "temp_vars = weather.loc[:,['mintemp','maxtemp','temp9am','temp3pm', 'raintomorrow']]\n",
    "X = temp_vars.drop('raintomorrow', axis=1)\n",
    "y = temp_vars['raintomorrow']"
   ]
  },
  {
   "cell_type": "code",
   "execution_count": null,
   "metadata": {},
   "outputs": [],
   "source": [
    "cv = KFold(5)\n",
    "viz = RFECV(LogisticRegression(random_state=42, solver='lbfgs'), cv=cv, scoring='roc_auc')\n",
    "\n",
    "viz.fit(X,y)\n",
    "viz.show()"
   ]
  },
  {
   "cell_type": "code",
   "execution_count": null,
   "metadata": {},
   "outputs": [],
   "source": [
    "weather.head().T"
   ]
  }
 ],
 "metadata": {
  "kernelspec": {
   "display_name": "Python 3",
   "language": "python",
   "name": "python3"
  },
  "language_info": {
   "codemirror_mode": {
    "name": "ipython",
    "version": 3
   },
   "file_extension": ".py",
   "mimetype": "text/x-python",
   "name": "python",
   "nbconvert_exporter": "python",
   "pygments_lexer": "ipython3",
   "version": "3.7.3"
  }
 },
 "nbformat": 4,
 "nbformat_minor": 2
}
